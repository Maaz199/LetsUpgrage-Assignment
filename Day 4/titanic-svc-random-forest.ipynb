{
 "cells": [
  {
   "cell_type": "markdown",
   "id": "6e85bf1d",
   "metadata": {
    "papermill": {
     "duration": 0.048518,
     "end_time": "2021-10-12T08:26:06.003754",
     "exception": false,
     "start_time": "2021-10-12T08:26:05.955236",
     "status": "completed"
    },
    "tags": []
   },
   "source": [
    "# ***TITANIC DATASET***"
   ]
  },
  {
   "cell_type": "code",
   "execution_count": 1,
   "id": "6fa600de",
   "metadata": {
    "execution": {
     "iopub.execute_input": "2021-10-12T08:26:06.108375Z",
     "iopub.status.busy": "2021-10-12T08:26:06.107719Z",
     "iopub.status.idle": "2021-10-12T08:26:06.946133Z",
     "shell.execute_reply": "2021-10-12T08:26:06.945490Z",
     "shell.execute_reply.started": "2021-10-12T08:24:37.735573Z"
    },
    "papermill": {
     "duration": 0.895135,
     "end_time": "2021-10-12T08:26:06.946350",
     "exception": false,
     "start_time": "2021-10-12T08:26:06.051215",
     "status": "completed"
    },
    "tags": []
   },
   "outputs": [],
   "source": [
    "# Importing Libraries\n",
    "import pandas as pd\n",
    "import matplotlib.pyplot as plt\n",
    "import seaborn as sns\n",
    "import numpy as np"
   ]
  },
  {
   "cell_type": "code",
   "execution_count": 2,
   "id": "78a7d45f",
   "metadata": {
    "execution": {
     "iopub.execute_input": "2021-10-12T08:26:07.044331Z",
     "iopub.status.busy": "2021-10-12T08:26:07.043425Z",
     "iopub.status.idle": "2021-10-12T08:26:07.084322Z",
     "shell.execute_reply": "2021-10-12T08:26:07.084789Z",
     "shell.execute_reply.started": "2021-10-12T08:24:37.748508Z"
    },
    "papermill": {
     "duration": 0.092206,
     "end_time": "2021-10-12T08:26:07.084962",
     "exception": false,
     "start_time": "2021-10-12T08:26:06.992756",
     "status": "completed"
    },
    "tags": []
   },
   "outputs": [
    {
     "data": {
      "text/html": [
       "<div>\n",
       "<style scoped>\n",
       "    .dataframe tbody tr th:only-of-type {\n",
       "        vertical-align: middle;\n",
       "    }\n",
       "\n",
       "    .dataframe tbody tr th {\n",
       "        vertical-align: top;\n",
       "    }\n",
       "\n",
       "    .dataframe thead th {\n",
       "        text-align: right;\n",
       "    }\n",
       "</style>\n",
       "<table border=\"1\" class=\"dataframe\">\n",
       "  <thead>\n",
       "    <tr style=\"text-align: right;\">\n",
       "      <th></th>\n",
       "      <th>PassengerId</th>\n",
       "      <th>Survived</th>\n",
       "      <th>Pclass</th>\n",
       "      <th>Name</th>\n",
       "      <th>Sex</th>\n",
       "      <th>Age</th>\n",
       "      <th>SibSp</th>\n",
       "      <th>Parch</th>\n",
       "      <th>Ticket</th>\n",
       "      <th>Fare</th>\n",
       "      <th>Cabin</th>\n",
       "      <th>Embarked</th>\n",
       "    </tr>\n",
       "  </thead>\n",
       "  <tbody>\n",
       "    <tr>\n",
       "      <th>0</th>\n",
       "      <td>1</td>\n",
       "      <td>0</td>\n",
       "      <td>3</td>\n",
       "      <td>Braund, Mr. Owen Harris</td>\n",
       "      <td>male</td>\n",
       "      <td>22.0</td>\n",
       "      <td>1</td>\n",
       "      <td>0</td>\n",
       "      <td>A/5 21171</td>\n",
       "      <td>7.2500</td>\n",
       "      <td>NaN</td>\n",
       "      <td>S</td>\n",
       "    </tr>\n",
       "    <tr>\n",
       "      <th>1</th>\n",
       "      <td>2</td>\n",
       "      <td>1</td>\n",
       "      <td>1</td>\n",
       "      <td>Cumings, Mrs. John Bradley (Florence Briggs Th...</td>\n",
       "      <td>female</td>\n",
       "      <td>38.0</td>\n",
       "      <td>1</td>\n",
       "      <td>0</td>\n",
       "      <td>PC 17599</td>\n",
       "      <td>71.2833</td>\n",
       "      <td>C85</td>\n",
       "      <td>C</td>\n",
       "    </tr>\n",
       "    <tr>\n",
       "      <th>2</th>\n",
       "      <td>3</td>\n",
       "      <td>1</td>\n",
       "      <td>3</td>\n",
       "      <td>Heikkinen, Miss. Laina</td>\n",
       "      <td>female</td>\n",
       "      <td>26.0</td>\n",
       "      <td>0</td>\n",
       "      <td>0</td>\n",
       "      <td>STON/O2. 3101282</td>\n",
       "      <td>7.9250</td>\n",
       "      <td>NaN</td>\n",
       "      <td>S</td>\n",
       "    </tr>\n",
       "    <tr>\n",
       "      <th>3</th>\n",
       "      <td>4</td>\n",
       "      <td>1</td>\n",
       "      <td>1</td>\n",
       "      <td>Futrelle, Mrs. Jacques Heath (Lily May Peel)</td>\n",
       "      <td>female</td>\n",
       "      <td>35.0</td>\n",
       "      <td>1</td>\n",
       "      <td>0</td>\n",
       "      <td>113803</td>\n",
       "      <td>53.1000</td>\n",
       "      <td>C123</td>\n",
       "      <td>S</td>\n",
       "    </tr>\n",
       "    <tr>\n",
       "      <th>4</th>\n",
       "      <td>5</td>\n",
       "      <td>0</td>\n",
       "      <td>3</td>\n",
       "      <td>Allen, Mr. William Henry</td>\n",
       "      <td>male</td>\n",
       "      <td>35.0</td>\n",
       "      <td>0</td>\n",
       "      <td>0</td>\n",
       "      <td>373450</td>\n",
       "      <td>8.0500</td>\n",
       "      <td>NaN</td>\n",
       "      <td>S</td>\n",
       "    </tr>\n",
       "  </tbody>\n",
       "</table>\n",
       "</div>"
      ],
      "text/plain": [
       "   PassengerId  Survived  Pclass  \\\n",
       "0            1         0       3   \n",
       "1            2         1       1   \n",
       "2            3         1       3   \n",
       "3            4         1       1   \n",
       "4            5         0       3   \n",
       "\n",
       "                                                Name     Sex   Age  SibSp  \\\n",
       "0                            Braund, Mr. Owen Harris    male  22.0      1   \n",
       "1  Cumings, Mrs. John Bradley (Florence Briggs Th...  female  38.0      1   \n",
       "2                             Heikkinen, Miss. Laina  female  26.0      0   \n",
       "3       Futrelle, Mrs. Jacques Heath (Lily May Peel)  female  35.0      1   \n",
       "4                           Allen, Mr. William Henry    male  35.0      0   \n",
       "\n",
       "   Parch            Ticket     Fare Cabin Embarked  \n",
       "0      0         A/5 21171   7.2500   NaN        S  \n",
       "1      0          PC 17599  71.2833   C85        C  \n",
       "2      0  STON/O2. 3101282   7.9250   NaN        S  \n",
       "3      0            113803  53.1000  C123        S  \n",
       "4      0            373450   8.0500   NaN        S  "
      ]
     },
     "execution_count": 2,
     "metadata": {},
     "output_type": "execute_result"
    }
   ],
   "source": [
    "# Loading the data\n",
    "df = pd.read_csv('/kaggle/input/titanic/train.csv')\n",
    "df.head()"
   ]
  },
  {
   "cell_type": "code",
   "execution_count": 3,
   "id": "628f2e30",
   "metadata": {
    "execution": {
     "iopub.execute_input": "2021-10-12T08:26:07.195899Z",
     "iopub.status.busy": "2021-10-12T08:26:07.181533Z",
     "iopub.status.idle": "2021-10-12T08:26:07.208719Z",
     "shell.execute_reply": "2021-10-12T08:26:07.208033Z",
     "shell.execute_reply.started": "2021-10-12T08:24:37.778837Z"
    },
    "papermill": {
     "duration": 0.076406,
     "end_time": "2021-10-12T08:26:07.208869",
     "exception": false,
     "start_time": "2021-10-12T08:26:07.132463",
     "status": "completed"
    },
    "tags": []
   },
   "outputs": [
    {
     "name": "stdout",
     "output_type": "stream",
     "text": [
      "<class 'pandas.core.frame.DataFrame'>\n",
      "RangeIndex: 891 entries, 0 to 890\n",
      "Data columns (total 12 columns):\n",
      " #   Column       Non-Null Count  Dtype  \n",
      "---  ------       --------------  -----  \n",
      " 0   PassengerId  891 non-null    int64  \n",
      " 1   Survived     891 non-null    int64  \n",
      " 2   Pclass       891 non-null    int64  \n",
      " 3   Name         891 non-null    object \n",
      " 4   Sex          891 non-null    object \n",
      " 5   Age          714 non-null    float64\n",
      " 6   SibSp        891 non-null    int64  \n",
      " 7   Parch        891 non-null    int64  \n",
      " 8   Ticket       891 non-null    object \n",
      " 9   Fare         891 non-null    float64\n",
      " 10  Cabin        204 non-null    object \n",
      " 11  Embarked     889 non-null    object \n",
      "dtypes: float64(2), int64(5), object(5)\n",
      "memory usage: 83.7+ KB\n"
     ]
    }
   ],
   "source": [
    "df.info()"
   ]
  },
  {
   "cell_type": "markdown",
   "id": "dd6f0a91",
   "metadata": {
    "papermill": {
     "duration": 0.046892,
     "end_time": "2021-10-12T08:26:07.303609",
     "exception": false,
     "start_time": "2021-10-12T08:26:07.256717",
     "status": "completed"
    },
    "tags": []
   },
   "source": [
    "Just by looking at the data I can tell that I have some missing data in my *Age*, *Embarked* and *Cabin* column. Lets see how much of the data is actually missing"
   ]
  },
  {
   "cell_type": "code",
   "execution_count": 4,
   "id": "72034f83",
   "metadata": {
    "execution": {
     "iopub.execute_input": "2021-10-12T08:26:07.410650Z",
     "iopub.status.busy": "2021-10-12T08:26:07.409699Z",
     "iopub.status.idle": "2021-10-12T08:26:07.413828Z",
     "shell.execute_reply": "2021-10-12T08:26:07.413345Z",
     "shell.execute_reply.started": "2021-10-12T08:24:37.796653Z"
    },
    "papermill": {
     "duration": 0.063477,
     "end_time": "2021-10-12T08:26:07.413988",
     "exception": false,
     "start_time": "2021-10-12T08:26:07.350511",
     "status": "completed"
    },
    "tags": []
   },
   "outputs": [
    {
     "data": {
      "text/html": [
       "<div>\n",
       "<style scoped>\n",
       "    .dataframe tbody tr th:only-of-type {\n",
       "        vertical-align: middle;\n",
       "    }\n",
       "\n",
       "    .dataframe tbody tr th {\n",
       "        vertical-align: top;\n",
       "    }\n",
       "\n",
       "    .dataframe thead th {\n",
       "        text-align: right;\n",
       "    }\n",
       "</style>\n",
       "<table border=\"1\" class=\"dataframe\">\n",
       "  <thead>\n",
       "    <tr style=\"text-align: right;\">\n",
       "      <th></th>\n",
       "      <th>0</th>\n",
       "    </tr>\n",
       "  </thead>\n",
       "  <tbody>\n",
       "    <tr>\n",
       "      <th>Cabin</th>\n",
       "      <td>77.104377</td>\n",
       "    </tr>\n",
       "    <tr>\n",
       "      <th>Age</th>\n",
       "      <td>19.865320</td>\n",
       "    </tr>\n",
       "    <tr>\n",
       "      <th>Embarked</th>\n",
       "      <td>0.224467</td>\n",
       "    </tr>\n",
       "    <tr>\n",
       "      <th>PassengerId</th>\n",
       "      <td>0.000000</td>\n",
       "    </tr>\n",
       "    <tr>\n",
       "      <th>Survived</th>\n",
       "      <td>0.000000</td>\n",
       "    </tr>\n",
       "    <tr>\n",
       "      <th>Pclass</th>\n",
       "      <td>0.000000</td>\n",
       "    </tr>\n",
       "    <tr>\n",
       "      <th>Name</th>\n",
       "      <td>0.000000</td>\n",
       "    </tr>\n",
       "    <tr>\n",
       "      <th>Sex</th>\n",
       "      <td>0.000000</td>\n",
       "    </tr>\n",
       "    <tr>\n",
       "      <th>SibSp</th>\n",
       "      <td>0.000000</td>\n",
       "    </tr>\n",
       "    <tr>\n",
       "      <th>Parch</th>\n",
       "      <td>0.000000</td>\n",
       "    </tr>\n",
       "    <tr>\n",
       "      <th>Ticket</th>\n",
       "      <td>0.000000</td>\n",
       "    </tr>\n",
       "    <tr>\n",
       "      <th>Fare</th>\n",
       "      <td>0.000000</td>\n",
       "    </tr>\n",
       "  </tbody>\n",
       "</table>\n",
       "</div>"
      ],
      "text/plain": [
       "                     0\n",
       "Cabin        77.104377\n",
       "Age          19.865320\n",
       "Embarked      0.224467\n",
       "PassengerId   0.000000\n",
       "Survived      0.000000\n",
       "Pclass        0.000000\n",
       "Name          0.000000\n",
       "Sex           0.000000\n",
       "SibSp         0.000000\n",
       "Parch         0.000000\n",
       "Ticket        0.000000\n",
       "Fare          0.000000"
      ]
     },
     "execution_count": 4,
     "metadata": {},
     "output_type": "execute_result"
    }
   ],
   "source": [
    "pd.DataFrame(df.isna().sum().sort_values(ascending=False)/len(df)*100)"
   ]
  },
  {
   "cell_type": "markdown",
   "id": "1251e268",
   "metadata": {
    "papermill": {
     "duration": 0.046642,
     "end_time": "2021-10-12T08:26:07.507697",
     "exception": false,
     "start_time": "2021-10-12T08:26:07.461055",
     "status": "completed"
    },
    "tags": []
   },
   "source": [
    "Now I can tell that in column - Cabin, Age and Embarked we have 77.10%, 19.86% and 0.22% of missing data respectively."
   ]
  },
  {
   "cell_type": "markdown",
   "id": "db61e6b0",
   "metadata": {
    "papermill": {
     "duration": 0.046615,
     "end_time": "2021-10-12T08:26:07.601667",
     "exception": false,
     "start_time": "2021-10-12T08:26:07.555052",
     "status": "completed"
    },
    "tags": []
   },
   "source": [
    "\n",
    "\n",
    "***brief description of each column***\n",
    "\n",
    "    PassengerId -- passenger identifiation unique ID\n",
    "    Survived -- Survivor flag (0 = dead, 1 = survived)\n",
    "    Pclass -- ticket class:\n",
    "        1 = 1st Class\n",
    "        2 = 2nd Class\n",
    "        3 = 3rd Class\n",
    "    Name -- as is\n",
    "    Sex -- as is\n",
    "    Age -- as is\n",
    "    SibSp -- number of siblings/spouses on Titanic\n",
    "    Parch -- number of parents/children on Titanic\n",
    "    Ticket -- ticket number\n",
    "    Fare -- price\n",
    "    Cabin -- Cabin number\n",
    "    Embarked -- port of departure\n",
    "        S = Southampton\n",
    "        C = Cherbourg\n",
    "        Q = Queenstown\n",
    "\n"
   ]
  },
  {
   "cell_type": "code",
   "execution_count": 5,
   "id": "af694ded",
   "metadata": {
    "execution": {
     "iopub.execute_input": "2021-10-12T08:26:07.700026Z",
     "iopub.status.busy": "2021-10-12T08:26:07.699020Z",
     "iopub.status.idle": "2021-10-12T08:26:07.940995Z",
     "shell.execute_reply": "2021-10-12T08:26:07.940459Z",
     "shell.execute_reply.started": "2021-10-12T08:24:37.813880Z"
    },
    "papermill": {
     "duration": 0.292586,
     "end_time": "2021-10-12T08:26:07.941136",
     "exception": false,
     "start_time": "2021-10-12T08:26:07.648550",
     "status": "completed"
    },
    "tags": []
   },
   "outputs": [
    {
     "data": {
      "text/plain": [
       "<function matplotlib.pyplot.show(close=None, block=None)>"
      ]
     },
     "execution_count": 5,
     "metadata": {},
     "output_type": "execute_result"
    },
    {
     "data": {
      "image/png": "[encoded data removed]",
      "text/plain": [
       "<Figure size 1152x576 with 1 Axes>"
      ]
     },
     "metadata": {
      "needs_background": "light"
     },
     "output_type": "display_data"
    }
   ],
   "source": [
    "# Number of people survived vs not servived\n",
    "plt.figure(figsize=(16,8))\n",
    "df[\"Survived\"].value_counts().plot.bar()\n",
    "plt.show"
   ]
  },
  {
   "cell_type": "code",
   "execution_count": 6,
   "id": "92cb24f1",
   "metadata": {
    "execution": {
     "iopub.execute_input": "2021-10-12T08:26:08.045771Z",
     "iopub.status.busy": "2021-10-12T08:26:08.044612Z",
     "iopub.status.idle": "2021-10-12T08:26:08.048345Z",
     "shell.execute_reply": "2021-10-12T08:26:08.048797Z",
     "shell.execute_reply.started": "2021-10-12T08:24:38.041106Z"
    },
    "papermill": {
     "duration": 0.058475,
     "end_time": "2021-10-12T08:26:08.048971",
     "exception": false,
     "start_time": "2021-10-12T08:26:07.990496",
     "status": "completed"
    },
    "tags": []
   },
   "outputs": [],
   "source": [
    "non_survived_passenger = round(df[\"Survived\"].value_counts()[0]/len(df)*100,3)\n",
    "survived_passenger = round(df[\"Survived\"].value_counts()[1]/len(df)*100,3)"
   ]
  },
  {
   "cell_type": "code",
   "execution_count": 7,
   "id": "34290ff4",
   "metadata": {
    "execution": {
     "iopub.execute_input": "2021-10-12T08:26:08.151496Z",
     "iopub.status.busy": "2021-10-12T08:26:08.150673Z",
     "iopub.status.idle": "2021-10-12T08:26:08.153999Z",
     "shell.execute_reply": "2021-10-12T08:26:08.154586Z",
     "shell.execute_reply.started": "2021-10-12T08:24:38.050003Z"
    },
    "papermill": {
     "duration": 0.056992,
     "end_time": "2021-10-12T08:26:08.154756",
     "exception": false,
     "start_time": "2021-10-12T08:26:08.097764",
     "status": "completed"
    },
    "tags": []
   },
   "outputs": [
    {
     "name": "stdout",
     "output_type": "stream",
     "text": [
      "Percentage of passengers survived: 38.384%\n",
      "Percentage of passengers who could not survived: 61.616%\n"
     ]
    }
   ],
   "source": [
    "print(f\"Percentage of passengers survived: {survived_passenger}%\")\n",
    "print(f\"Percentage of passengers who could not survived: {non_survived_passenger}%\")"
   ]
  },
  {
   "cell_type": "code",
   "execution_count": 8,
   "id": "7261b21e",
   "metadata": {
    "execution": {
     "iopub.execute_input": "2021-10-12T08:26:08.257587Z",
     "iopub.status.busy": "2021-10-12T08:26:08.256931Z",
     "iopub.status.idle": "2021-10-12T08:26:08.260419Z",
     "shell.execute_reply": "2021-10-12T08:26:08.259568Z",
     "shell.execute_reply.started": "2021-10-12T08:24:38.067659Z"
    },
    "papermill": {
     "duration": 0.0573,
     "end_time": "2021-10-12T08:26:08.260607",
     "exception": false,
     "start_time": "2021-10-12T08:26:08.203307",
     "status": "completed"
    },
    "tags": []
   },
   "outputs": [
    {
     "name": "stdout",
     "output_type": "stream",
     "text": [
      "Maximum age is: 80.0\n",
      "Minimum age is: 0.42\n"
     ]
    }
   ],
   "source": [
    "#Maximum and Minimun age of the passengers\n",
    "print(f\"Maximum age is: {df['Age'].max()}\")\n",
    "print(f\"Minimum age is: {df['Age'].min()}\")"
   ]
  },
  {
   "cell_type": "code",
   "execution_count": 9,
   "id": "f879923e",
   "metadata": {
    "execution": {
     "iopub.execute_input": "2021-10-12T08:26:08.367016Z",
     "iopub.status.busy": "2021-10-12T08:26:08.364576Z",
     "iopub.status.idle": "2021-10-12T08:26:08.595021Z",
     "shell.execute_reply": "2021-10-12T08:26:08.595508Z",
     "shell.execute_reply.started": "2021-10-12T08:24:38.083793Z"
    },
    "papermill": {
     "duration": 0.284871,
     "end_time": "2021-10-12T08:26:08.595688",
     "exception": false,
     "start_time": "2021-10-12T08:26:08.310817",
     "status": "completed"
    },
    "tags": []
   },
   "outputs": [
    {
     "data": {
      "image/png": "[encoded data removed]",
      "text/plain": [
       "<Figure size 432x288 with 1 Axes>"
      ]
     },
     "metadata": {
      "needs_background": "light"
     },
     "output_type": "display_data"
    }
   ],
   "source": [
    "#Univariate Analysis\n",
    "df.plot(kind=\"scatter\",x=\"Age\",y=\"Survived\")\n",
    "plt.title(\"AGE VS SURVIVED\")\n",
    "plt.show()"
   ]
  },
  {
   "cell_type": "markdown",
   "id": "09c6699d",
   "metadata": {
    "papermill": {
     "duration": 0.04844,
     "end_time": "2021-10-12T08:26:08.692779",
     "exception": false,
     "start_time": "2021-10-12T08:26:08.644339",
     "status": "completed"
    },
    "tags": []
   },
   "source": [
    "I did not see any correlations between Age and Survived columns"
   ]
  },
  {
   "cell_type": "code",
   "execution_count": 10,
   "id": "de64040b",
   "metadata": {
    "execution": {
     "iopub.execute_input": "2021-10-12T08:26:08.795967Z",
     "iopub.status.busy": "2021-10-12T08:26:08.795033Z",
     "iopub.status.idle": "2021-10-12T08:26:08.992003Z",
     "shell.execute_reply": "2021-10-12T08:26:08.992440Z",
     "shell.execute_reply.started": "2021-10-12T08:24:38.322528Z"
    },
    "papermill": {
     "duration": 0.249905,
     "end_time": "2021-10-12T08:26:08.992631",
     "exception": false,
     "start_time": "2021-10-12T08:26:08.742726",
     "status": "completed"
    },
    "tags": []
   },
   "outputs": [
    {
     "data": {
      "image/png": "[encoded data removed]",
      "text/plain": [
       "<Figure size 432x288 with 1 Axes>"
      ]
     },
     "metadata": {
      "needs_background": "light"
     },
     "output_type": "display_data"
    }
   ],
   "source": [
    "df.plot(kind=\"scatter\", x=\"Fare\", y=\"Survived\")\n",
    "plt.title(\"FARE VS SURVIVED\")\n",
    "plt.show()"
   ]
  },
  {
   "cell_type": "code",
   "execution_count": 11,
   "id": "b4a4aed2",
   "metadata": {
    "execution": {
     "iopub.execute_input": "2021-10-12T08:26:09.095497Z",
     "iopub.status.busy": "2021-10-12T08:26:09.094556Z",
     "iopub.status.idle": "2021-10-12T08:26:09.215260Z",
     "shell.execute_reply": "2021-10-12T08:26:09.215719Z",
     "shell.execute_reply.started": "2021-10-12T08:24:38.555171Z"
    },
    "papermill": {
     "duration": 0.173976,
     "end_time": "2021-10-12T08:26:09.215895",
     "exception": false,
     "start_time": "2021-10-12T08:26:09.041919",
     "status": "completed"
    },
    "tags": []
   },
   "outputs": [
    {
     "data": {
      "image/png": "[encoded data removed]",
      "text/plain": [
       "<Figure size 1152x576 with 1 Axes>"
      ]
     },
     "metadata": {},
     "output_type": "display_data"
    }
   ],
   "source": [
    "plt.figure(figsize=(16,8))\n",
    "plt.pie(df[\"SibSp\"].value_counts().values, autopct=\"%1.0f%%\", labels=[0,1,2,3,4,5,6])\n",
    "plt.show()"
   ]
  },
  {
   "cell_type": "code",
   "execution_count": 12,
   "id": "b37a3d42",
   "metadata": {
    "execution": {
     "iopub.execute_input": "2021-10-12T08:26:09.320175Z",
     "iopub.status.busy": "2021-10-12T08:26:09.319255Z",
     "iopub.status.idle": "2021-10-12T08:26:09.524689Z",
     "shell.execute_reply": "2021-10-12T08:26:09.525130Z",
     "shell.execute_reply.started": "2021-10-12T08:24:38.702910Z"
    },
    "papermill": {
     "duration": 0.259172,
     "end_time": "2021-10-12T08:26:09.525326",
     "exception": false,
     "start_time": "2021-10-12T08:26:09.266154",
     "status": "completed"
    },
    "tags": []
   },
   "outputs": [
    {
     "data": {
      "text/plain": [
       "<AxesSubplot:>"
      ]
     },
     "execution_count": 12,
     "metadata": {},
     "output_type": "execute_result"
    },
    {
     "data": {
      "image/png": "[encoded data removed]",
      "text/plain": [
       "<Figure size 432x288 with 1 Axes>"
      ]
     },
     "metadata": {
      "needs_background": "light"
     },
     "output_type": "display_data"
    }
   ],
   "source": [
    "df['Parch'].value_counts().plot.bar()"
   ]
  },
  {
   "cell_type": "code",
   "execution_count": 13,
   "id": "2b791860",
   "metadata": {
    "execution": {
     "iopub.execute_input": "2021-10-12T08:26:09.633001Z",
     "iopub.status.busy": "2021-10-12T08:26:09.632060Z",
     "iopub.status.idle": "2021-10-12T08:26:10.121690Z",
     "shell.execute_reply": "2021-10-12T08:26:10.121078Z",
     "shell.execute_reply.started": "2021-10-12T08:24:38.950685Z"
    },
    "papermill": {
     "duration": 0.544099,
     "end_time": "2021-10-12T08:26:10.121825",
     "exception": false,
     "start_time": "2021-10-12T08:26:09.577726",
     "status": "completed"
    },
    "tags": []
   },
   "outputs": [
    {
     "data": {
      "image/png": "[encoded data removed]",
      "text/plain": [
       "<Figure size 1152x576 with 1 Axes>"
      ]
     },
     "metadata": {
      "needs_background": "light"
     },
     "output_type": "display_data"
    }
   ],
   "source": [
    "plt.figure(figsize=(16,8))\n",
    "sns.histplot(df['Fare'])\n",
    "plt.show()"
   ]
  },
  {
   "cell_type": "code",
   "execution_count": 14,
   "id": "4d9e2db9",
   "metadata": {
    "execution": {
     "iopub.execute_input": "2021-10-12T08:26:10.263658Z",
     "iopub.status.busy": "2021-10-12T08:26:10.255357Z",
     "iopub.status.idle": "2021-10-12T08:26:10.413451Z",
     "shell.execute_reply": "2021-10-12T08:26:10.413869Z",
     "shell.execute_reply.started": "2021-10-12T08:24:39.413279Z"
    },
    "papermill": {
     "duration": 0.240268,
     "end_time": "2021-10-12T08:26:10.414038",
     "exception": false,
     "start_time": "2021-10-12T08:26:10.173770",
     "status": "completed"
    },
    "tags": []
   },
   "outputs": [
    {
     "data": {
      "image/png": "[encoded data removed]",
      "text/plain": [
       "<Figure size 1152x576 with 1 Axes>"
      ]
     },
     "metadata": {
      "needs_background": "light"
     },
     "output_type": "display_data"
    }
   ],
   "source": [
    "plt.figure(figsize=(16,8))\n",
    "df[\"Sex\"].value_counts().plot.bar()\n",
    "plt.show()"
   ]
  },
  {
   "cell_type": "code",
   "execution_count": 15,
   "id": "47305cd4",
   "metadata": {
    "execution": {
     "iopub.execute_input": "2021-10-12T08:26:10.522193Z",
     "iopub.status.busy": "2021-10-12T08:26:10.521616Z",
     "iopub.status.idle": "2021-10-12T08:26:10.701697Z",
     "shell.execute_reply": "2021-10-12T08:26:10.702099Z",
     "shell.execute_reply.started": "2021-10-12T08:24:39.641479Z"
    },
    "papermill": {
     "duration": 0.235929,
     "end_time": "2021-10-12T08:26:10.702285",
     "exception": false,
     "start_time": "2021-10-12T08:26:10.466356",
     "status": "completed"
    },
    "tags": []
   },
   "outputs": [
    {
     "data": {
      "image/png": "[encoded data removed]",
      "text/plain": [
       "<Figure size 1152x576 with 1 Axes>"
      ]
     },
     "metadata": {
      "needs_background": "light"
     },
     "output_type": "display_data"
    }
   ],
   "source": [
    "plt.figure(figsize=(16,8))\n",
    "df[\"Embarked\"].value_counts().plot.bar()\n",
    "plt.show()"
   ]
  },
  {
   "cell_type": "markdown",
   "id": "ea200478",
   "metadata": {
    "papermill": {
     "duration": 0.052719,
     "end_time": "2021-10-12T08:26:10.809318",
     "exception": false,
     "start_time": "2021-10-12T08:26:10.756599",
     "status": "completed"
    },
    "tags": []
   },
   "source": [
    "***Preparing the dataset for machine learning***\n",
    "\n",
    "Seprating numerical and categorical values. Performing preprocessing operations."
   ]
  },
  {
   "cell_type": "code",
   "execution_count": 16,
   "id": "1738092d",
   "metadata": {
    "execution": {
     "iopub.execute_input": "2021-10-12T08:26:10.918068Z",
     "iopub.status.busy": "2021-10-12T08:26:10.917495Z",
     "iopub.status.idle": "2021-10-12T08:26:10.922845Z",
     "shell.execute_reply": "2021-10-12T08:26:10.923320Z",
     "shell.execute_reply.started": "2021-10-12T08:24:40.047855Z"
    },
    "papermill": {
     "duration": 0.061288,
     "end_time": "2021-10-12T08:26:10.923488",
     "exception": false,
     "start_time": "2021-10-12T08:26:10.862200",
     "status": "completed"
    },
    "tags": []
   },
   "outputs": [],
   "source": [
    "# Convert the parent children and sibling spouse columns into a float ones \n",
    "# because they don't show a categorial value.\n",
    "df['Parch'] = df['Parch'].astype(float)\n",
    "df['SibSp'] = df['SibSp'].astype(float)"
   ]
  },
  {
   "cell_type": "code",
   "execution_count": 17,
   "id": "64186028",
   "metadata": {
    "execution": {
     "iopub.execute_input": "2021-10-12T08:26:11.034242Z",
     "iopub.status.busy": "2021-10-12T08:26:11.033667Z",
     "iopub.status.idle": "2021-10-12T08:26:11.038628Z",
     "shell.execute_reply": "2021-10-12T08:26:11.039155Z",
     "shell.execute_reply.started": "2021-10-12T08:24:40.058046Z"
    },
    "papermill": {
     "duration": 0.061936,
     "end_time": "2021-10-12T08:26:11.039347",
     "exception": false,
     "start_time": "2021-10-12T08:26:10.977411",
     "status": "completed"
    },
    "tags": []
   },
   "outputs": [],
   "source": [
    "features = df.drop(\"Survived\", axis=1)\n",
    "labels = df[\"Survived\"].values"
   ]
  },
  {
   "cell_type": "code",
   "execution_count": 18,
   "id": "6d17aaa8",
   "metadata": {
    "execution": {
     "iopub.execute_input": "2021-10-12T08:26:11.147984Z",
     "iopub.status.busy": "2021-10-12T08:26:11.147396Z",
     "iopub.status.idle": "2021-10-12T08:26:11.153946Z",
     "shell.execute_reply": "2021-10-12T08:26:11.153350Z",
     "shell.execute_reply.started": "2021-10-12T08:24:40.078305Z"
    },
    "papermill": {
     "duration": 0.061993,
     "end_time": "2021-10-12T08:26:11.154081",
     "exception": false,
     "start_time": "2021-10-12T08:26:11.092088",
     "status": "completed"
    },
    "tags": []
   },
   "outputs": [
    {
     "name": "stdout",
     "output_type": "stream",
     "text": [
      "['Age', 'SibSp', 'Parch', 'Fare']\n"
     ]
    }
   ],
   "source": [
    "num_cols = [col for col in features.columns if features[col].dtype in [float]]\n",
    "print(num_cols)"
   ]
  },
  {
   "cell_type": "code",
   "execution_count": 19,
   "id": "b1c1992e",
   "metadata": {
    "execution": {
     "iopub.execute_input": "2021-10-12T08:26:11.265170Z",
     "iopub.status.busy": "2021-10-12T08:26:11.264258Z",
     "iopub.status.idle": "2021-10-12T08:26:11.272048Z",
     "shell.execute_reply": "2021-10-12T08:26:11.271484Z",
     "shell.execute_reply.started": "2021-10-12T08:24:40.093420Z"
    },
    "papermill": {
     "duration": 0.064475,
     "end_time": "2021-10-12T08:26:11.272180",
     "exception": false,
     "start_time": "2021-10-12T08:26:11.207705",
     "status": "completed"
    },
    "tags": []
   },
   "outputs": [
    {
     "name": "stdout",
     "output_type": "stream",
     "text": [
      "['Pclass', 'Sex', 'Embarked']\n"
     ]
    }
   ],
   "source": [
    "# Checking for the cardinal value which should be less than 10\n",
    "cat_cols = [col for col in features.columns if col not in num_cols and df[col].unique().shape[0]<10]\n",
    "print(cat_cols)"
   ]
  },
  {
   "cell_type": "code",
   "execution_count": 20,
   "id": "6ba1333b",
   "metadata": {
    "execution": {
     "iopub.execute_input": "2021-10-12T08:26:11.389156Z",
     "iopub.status.busy": "2021-10-12T08:26:11.388327Z",
     "iopub.status.idle": "2021-10-12T08:26:11.391887Z",
     "shell.execute_reply": "2021-10-12T08:26:11.391448Z",
     "shell.execute_reply.started": "2021-10-12T08:24:40.106709Z"
    },
    "papermill": {
     "duration": 0.066527,
     "end_time": "2021-10-12T08:26:11.392022",
     "exception": false,
     "start_time": "2021-10-12T08:26:11.325495",
     "status": "completed"
    },
    "tags": []
   },
   "outputs": [
    {
     "data": {
      "text/html": [
       "<div>\n",
       "<style scoped>\n",
       "    .dataframe tbody tr th:only-of-type {\n",
       "        vertical-align: middle;\n",
       "    }\n",
       "\n",
       "    .dataframe tbody tr th {\n",
       "        vertical-align: top;\n",
       "    }\n",
       "\n",
       "    .dataframe thead th {\n",
       "        text-align: right;\n",
       "    }\n",
       "</style>\n",
       "<table border=\"1\" class=\"dataframe\">\n",
       "  <thead>\n",
       "    <tr style=\"text-align: right;\">\n",
       "      <th></th>\n",
       "      <th>Pclass</th>\n",
       "      <th>Sex</th>\n",
       "      <th>Embarked</th>\n",
       "    </tr>\n",
       "  </thead>\n",
       "  <tbody>\n",
       "    <tr>\n",
       "      <th>0</th>\n",
       "      <td>3</td>\n",
       "      <td>male</td>\n",
       "      <td>S</td>\n",
       "    </tr>\n",
       "    <tr>\n",
       "      <th>1</th>\n",
       "      <td>1</td>\n",
       "      <td>female</td>\n",
       "      <td>C</td>\n",
       "    </tr>\n",
       "    <tr>\n",
       "      <th>2</th>\n",
       "      <td>3</td>\n",
       "      <td>female</td>\n",
       "      <td>S</td>\n",
       "    </tr>\n",
       "    <tr>\n",
       "      <th>3</th>\n",
       "      <td>1</td>\n",
       "      <td>female</td>\n",
       "      <td>S</td>\n",
       "    </tr>\n",
       "    <tr>\n",
       "      <th>4</th>\n",
       "      <td>3</td>\n",
       "      <td>male</td>\n",
       "      <td>S</td>\n",
       "    </tr>\n",
       "  </tbody>\n",
       "</table>\n",
       "</div>"
      ],
      "text/plain": [
       "   Pclass     Sex Embarked\n",
       "0       3    male        S\n",
       "1       1  female        C\n",
       "2       3  female        S\n",
       "3       1  female        S\n",
       "4       3    male        S"
      ]
     },
     "execution_count": 20,
     "metadata": {},
     "output_type": "execute_result"
    }
   ],
   "source": [
    "df[cat_cols].head()"
   ]
  },
  {
   "cell_type": "code",
   "execution_count": 21,
   "id": "d1bfd3d6",
   "metadata": {
    "execution": {
     "iopub.execute_input": "2021-10-12T08:26:11.502637Z",
     "iopub.status.busy": "2021-10-12T08:26:11.502006Z",
     "iopub.status.idle": "2021-10-12T08:26:11.512598Z",
     "shell.execute_reply": "2021-10-12T08:26:11.513054Z",
     "shell.execute_reply.started": "2021-10-12T08:24:40.130666Z"
    },
    "papermill": {
     "duration": 0.067852,
     "end_time": "2021-10-12T08:26:11.513212",
     "exception": false,
     "start_time": "2021-10-12T08:26:11.445360",
     "status": "completed"
    },
    "tags": []
   },
   "outputs": [
    {
     "data": {
      "text/html": [
       "<div>\n",
       "<style scoped>\n",
       "    .dataframe tbody tr th:only-of-type {\n",
       "        vertical-align: middle;\n",
       "    }\n",
       "\n",
       "    .dataframe tbody tr th {\n",
       "        vertical-align: top;\n",
       "    }\n",
       "\n",
       "    .dataframe thead th {\n",
       "        text-align: right;\n",
       "    }\n",
       "</style>\n",
       "<table border=\"1\" class=\"dataframe\">\n",
       "  <thead>\n",
       "    <tr style=\"text-align: right;\">\n",
       "      <th></th>\n",
       "      <th>Age</th>\n",
       "      <th>SibSp</th>\n",
       "      <th>Parch</th>\n",
       "      <th>Fare</th>\n",
       "    </tr>\n",
       "  </thead>\n",
       "  <tbody>\n",
       "    <tr>\n",
       "      <th>0</th>\n",
       "      <td>22.0</td>\n",
       "      <td>1.0</td>\n",
       "      <td>0.0</td>\n",
       "      <td>7.2500</td>\n",
       "    </tr>\n",
       "    <tr>\n",
       "      <th>1</th>\n",
       "      <td>38.0</td>\n",
       "      <td>1.0</td>\n",
       "      <td>0.0</td>\n",
       "      <td>71.2833</td>\n",
       "    </tr>\n",
       "    <tr>\n",
       "      <th>2</th>\n",
       "      <td>26.0</td>\n",
       "      <td>0.0</td>\n",
       "      <td>0.0</td>\n",
       "      <td>7.9250</td>\n",
       "    </tr>\n",
       "    <tr>\n",
       "      <th>3</th>\n",
       "      <td>35.0</td>\n",
       "      <td>1.0</td>\n",
       "      <td>0.0</td>\n",
       "      <td>53.1000</td>\n",
       "    </tr>\n",
       "    <tr>\n",
       "      <th>4</th>\n",
       "      <td>35.0</td>\n",
       "      <td>0.0</td>\n",
       "      <td>0.0</td>\n",
       "      <td>8.0500</td>\n",
       "    </tr>\n",
       "  </tbody>\n",
       "</table>\n",
       "</div>"
      ],
      "text/plain": [
       "    Age  SibSp  Parch     Fare\n",
       "0  22.0    1.0    0.0   7.2500\n",
       "1  38.0    1.0    0.0  71.2833\n",
       "2  26.0    0.0    0.0   7.9250\n",
       "3  35.0    1.0    0.0  53.1000\n",
       "4  35.0    0.0    0.0   8.0500"
      ]
     },
     "execution_count": 21,
     "metadata": {},
     "output_type": "execute_result"
    }
   ],
   "source": [
    "df[num_cols].head()"
   ]
  },
  {
   "cell_type": "markdown",
   "id": "f7e33b99",
   "metadata": {
    "papermill": {
     "duration": 0.05346,
     "end_time": "2021-10-12T08:26:11.620565",
     "exception": false,
     "start_time": "2021-10-12T08:26:11.567105",
     "status": "completed"
    },
    "tags": []
   },
   "source": [
    "Columns with missing values are-\n",
    "1. Age\n",
    "1. Cabin\n",
    "1. Embarked"
   ]
  },
  {
   "cell_type": "code",
   "execution_count": 22,
   "id": "2b0953c6",
   "metadata": {
    "execution": {
     "iopub.execute_input": "2021-10-12T08:26:11.733385Z",
     "iopub.status.busy": "2021-10-12T08:26:11.732785Z",
     "iopub.status.idle": "2021-10-12T08:26:11.737957Z",
     "shell.execute_reply": "2021-10-12T08:26:11.737512Z",
     "shell.execute_reply.started": "2021-10-12T08:24:40.162333Z"
    },
    "papermill": {
     "duration": 0.062625,
     "end_time": "2021-10-12T08:26:11.738098",
     "exception": false,
     "start_time": "2021-10-12T08:26:11.675473",
     "status": "completed"
    },
    "tags": []
   },
   "outputs": [
    {
     "data": {
      "text/plain": [
       "29.69911764705882"
      ]
     },
     "execution_count": 22,
     "metadata": {},
     "output_type": "execute_result"
    }
   ],
   "source": [
    " # Imputating numerical columns\n",
    " # Taking the average value for Age column\n",
    "df['Age'].mean()"
   ]
  },
  {
   "cell_type": "code",
   "execution_count": 23,
   "id": "a0893103",
   "metadata": {
    "execution": {
     "iopub.execute_input": "2021-10-12T08:26:11.853160Z",
     "iopub.status.busy": "2021-10-12T08:26:11.852466Z",
     "iopub.status.idle": "2021-10-12T08:26:11.855879Z",
     "shell.execute_reply": "2021-10-12T08:26:11.855431Z",
     "shell.execute_reply.started": "2021-10-12T08:24:40.182092Z"
    },
    "papermill": {
     "duration": 0.063655,
     "end_time": "2021-10-12T08:26:11.856012",
     "exception": false,
     "start_time": "2021-10-12T08:26:11.792357",
     "status": "completed"
    },
    "tags": []
   },
   "outputs": [
    {
     "data": {
      "text/plain": [
       "29.69911764705882"
      ]
     },
     "execution_count": 23,
     "metadata": {},
     "output_type": "execute_result"
    }
   ],
   "source": [
    "features['Age'].mean()"
   ]
  },
  {
   "cell_type": "code",
   "execution_count": 24,
   "id": "162d6dc2",
   "metadata": {
    "execution": {
     "iopub.execute_input": "2021-10-12T08:26:11.974012Z",
     "iopub.status.busy": "2021-10-12T08:26:11.970473Z",
     "iopub.status.idle": "2021-10-12T08:26:11.986320Z",
     "shell.execute_reply": "2021-10-12T08:26:11.985766Z",
     "shell.execute_reply.started": "2021-10-12T08:24:40.197223Z"
    },
    "papermill": {
     "duration": 0.075617,
     "end_time": "2021-10-12T08:26:11.986454",
     "exception": false,
     "start_time": "2021-10-12T08:26:11.910837",
     "status": "completed"
    },
    "tags": []
   },
   "outputs": [
    {
     "data": {
      "text/html": [
       "<div>\n",
       "<style scoped>\n",
       "    .dataframe tbody tr th:only-of-type {\n",
       "        vertical-align: middle;\n",
       "    }\n",
       "\n",
       "    .dataframe tbody tr th {\n",
       "        vertical-align: top;\n",
       "    }\n",
       "\n",
       "    .dataframe thead th {\n",
       "        text-align: right;\n",
       "    }\n",
       "</style>\n",
       "<table border=\"1\" class=\"dataframe\">\n",
       "  <thead>\n",
       "    <tr style=\"text-align: right;\">\n",
       "      <th></th>\n",
       "      <th>Age</th>\n",
       "      <th>SibSp</th>\n",
       "      <th>Parch</th>\n",
       "      <th>Fare</th>\n",
       "    </tr>\n",
       "  </thead>\n",
       "  <tbody>\n",
       "    <tr>\n",
       "      <th>0</th>\n",
       "      <td>22.0</td>\n",
       "      <td>1.0</td>\n",
       "      <td>0.0</td>\n",
       "      <td>7.2500</td>\n",
       "    </tr>\n",
       "    <tr>\n",
       "      <th>1</th>\n",
       "      <td>38.0</td>\n",
       "      <td>1.0</td>\n",
       "      <td>0.0</td>\n",
       "      <td>71.2833</td>\n",
       "    </tr>\n",
       "    <tr>\n",
       "      <th>2</th>\n",
       "      <td>26.0</td>\n",
       "      <td>0.0</td>\n",
       "      <td>0.0</td>\n",
       "      <td>7.9250</td>\n",
       "    </tr>\n",
       "    <tr>\n",
       "      <th>3</th>\n",
       "      <td>35.0</td>\n",
       "      <td>1.0</td>\n",
       "      <td>0.0</td>\n",
       "      <td>53.1000</td>\n",
       "    </tr>\n",
       "    <tr>\n",
       "      <th>4</th>\n",
       "      <td>35.0</td>\n",
       "      <td>0.0</td>\n",
       "      <td>0.0</td>\n",
       "      <td>8.0500</td>\n",
       "    </tr>\n",
       "    <tr>\n",
       "      <th>...</th>\n",
       "      <td>...</td>\n",
       "      <td>...</td>\n",
       "      <td>...</td>\n",
       "      <td>...</td>\n",
       "    </tr>\n",
       "    <tr>\n",
       "      <th>886</th>\n",
       "      <td>27.0</td>\n",
       "      <td>0.0</td>\n",
       "      <td>0.0</td>\n",
       "      <td>13.0000</td>\n",
       "    </tr>\n",
       "    <tr>\n",
       "      <th>887</th>\n",
       "      <td>19.0</td>\n",
       "      <td>0.0</td>\n",
       "      <td>0.0</td>\n",
       "      <td>30.0000</td>\n",
       "    </tr>\n",
       "    <tr>\n",
       "      <th>888</th>\n",
       "      <td>NaN</td>\n",
       "      <td>1.0</td>\n",
       "      <td>2.0</td>\n",
       "      <td>23.4500</td>\n",
       "    </tr>\n",
       "    <tr>\n",
       "      <th>889</th>\n",
       "      <td>26.0</td>\n",
       "      <td>0.0</td>\n",
       "      <td>0.0</td>\n",
       "      <td>30.0000</td>\n",
       "    </tr>\n",
       "    <tr>\n",
       "      <th>890</th>\n",
       "      <td>32.0</td>\n",
       "      <td>0.0</td>\n",
       "      <td>0.0</td>\n",
       "      <td>7.7500</td>\n",
       "    </tr>\n",
       "  </tbody>\n",
       "</table>\n",
       "<p>891 rows × 4 columns</p>\n",
       "</div>"
      ],
      "text/plain": [
       "      Age  SibSp  Parch     Fare\n",
       "0    22.0    1.0    0.0   7.2500\n",
       "1    38.0    1.0    0.0  71.2833\n",
       "2    26.0    0.0    0.0   7.9250\n",
       "3    35.0    1.0    0.0  53.1000\n",
       "4    35.0    0.0    0.0   8.0500\n",
       "..    ...    ...    ...      ...\n",
       "886  27.0    0.0    0.0  13.0000\n",
       "887  19.0    0.0    0.0  30.0000\n",
       "888   NaN    1.0    2.0  23.4500\n",
       "889  26.0    0.0    0.0  30.0000\n",
       "890  32.0    0.0    0.0   7.7500\n",
       "\n",
       "[891 rows x 4 columns]"
      ]
     },
     "execution_count": 24,
     "metadata": {},
     "output_type": "execute_result"
    }
   ],
   "source": [
    "features[num_cols]"
   ]
  },
  {
   "cell_type": "code",
   "execution_count": 25,
   "id": "57220301",
   "metadata": {
    "execution": {
     "iopub.execute_input": "2021-10-12T08:26:12.111535Z",
     "iopub.status.busy": "2021-10-12T08:26:12.110661Z",
     "iopub.status.idle": "2021-10-12T08:26:12.114458Z",
     "shell.execute_reply": "2021-10-12T08:26:12.114891Z",
     "shell.execute_reply.started": "2021-10-12T08:24:40.223642Z"
    },
    "papermill": {
     "duration": 0.071858,
     "end_time": "2021-10-12T08:26:12.115060",
     "exception": false,
     "start_time": "2021-10-12T08:26:12.043202",
     "status": "completed"
    },
    "tags": []
   },
   "outputs": [
    {
     "data": {
      "text/plain": [
       "array([22.        , 38.        , 26.        , 35.        , 35.        ,\n",
       "       29.69911765, 54.        ,  2.        , 27.        , 14.        ,\n",
       "        4.        , 58.        , 20.        , 39.        , 14.        ,\n",
       "       55.        ,  2.        , 29.69911765, 31.        , 29.69911765,\n",
       "       35.        , 34.        , 15.        , 28.        ,  8.        ,\n",
       "       38.        , 29.69911765, 19.        , 29.69911765, 29.69911765,\n",
       "       40.        , 29.69911765, 29.69911765, 66.        , 28.        ,\n",
       "       42.        , 29.69911765, 21.        , 18.        , 14.        ,\n",
       "       40.        , 27.        , 29.69911765,  3.        , 19.        ,\n",
       "       29.69911765, 29.69911765, 29.69911765, 29.69911765, 18.        ,\n",
       "        7.        , 21.        , 49.        , 29.        , 65.        ,\n",
       "       29.69911765, 21.        , 28.5       ,  5.        , 11.        ,\n",
       "       22.        , 38.        , 45.        ,  4.        , 29.69911765,\n",
       "       29.69911765, 29.        , 19.        , 17.        , 26.        ,\n",
       "       32.        , 16.        , 21.        , 26.        , 32.        ,\n",
       "       25.        , 29.69911765, 29.69911765,  0.83      , 30.        ,\n",
       "       22.        , 29.        , 29.69911765, 28.        , 17.        ,\n",
       "       33.        , 16.        , 29.69911765, 23.        , 24.        ,\n",
       "       29.        , 20.        , 46.        , 26.        , 59.        ,\n",
       "       29.69911765, 71.        , 23.        , 34.        , 34.        ,\n",
       "       28.        , 29.69911765, 21.        , 33.        , 37.        ,\n",
       "       28.        , 21.        , 29.69911765, 38.        , 29.69911765,\n",
       "       47.        , 14.5       , 22.        , 20.        , 17.        ,\n",
       "       21.        , 70.5       , 29.        , 24.        ,  2.        ,\n",
       "       21.        , 29.69911765, 32.5       , 32.5       , 54.        ,\n",
       "       12.        , 29.69911765, 24.        , 29.69911765, 45.        ,\n",
       "       33.        , 20.        , 47.        , 29.        , 25.        ,\n",
       "       23.        , 19.        , 37.        , 16.        , 24.        ,\n",
       "       29.69911765, 22.        , 24.        , 19.        , 18.        ,\n",
       "       19.        , 27.        ,  9.        , 36.5       , 42.        ,\n",
       "       51.        , 22.        , 55.5       , 40.5       , 29.69911765,\n",
       "       51.        , 16.        , 30.        , 29.69911765, 29.69911765,\n",
       "       44.        , 40.        , 26.        , 17.        ,  1.        ,\n",
       "        9.        , 29.69911765, 45.        , 29.69911765, 28.        ,\n",
       "       61.        ,  4.        ,  1.        , 21.        , 56.        ,\n",
       "       18.        , 29.69911765, 50.        , 30.        , 36.        ,\n",
       "       29.69911765, 29.69911765,  9.        ,  1.        ,  4.        ,\n",
       "       29.69911765, 29.69911765, 45.        , 40.        , 36.        ,\n",
       "       32.        , 19.        , 19.        ,  3.        , 44.        ,\n",
       "       58.        , 29.69911765, 42.        , 29.69911765, 24.        ,\n",
       "       28.        , 29.69911765, 34.        , 45.5       , 18.        ,\n",
       "        2.        , 32.        , 26.        , 16.        , 40.        ,\n",
       "       24.        , 35.        , 22.        , 30.        , 29.69911765,\n",
       "       31.        , 27.        , 42.        , 32.        , 30.        ,\n",
       "       16.        , 27.        , 51.        , 29.69911765, 38.        ,\n",
       "       22.        , 19.        , 20.5       , 18.        , 29.69911765,\n",
       "       35.        , 29.        , 59.        ,  5.        , 24.        ,\n",
       "       29.69911765, 44.        ,  8.        , 19.        , 33.        ,\n",
       "       29.69911765, 29.69911765, 29.        , 22.        , 30.        ,\n",
       "       44.        , 25.        , 24.        , 37.        , 54.        ,\n",
       "       29.69911765, 29.        , 62.        , 30.        , 41.        ,\n",
       "       29.        , 29.69911765, 30.        , 35.        , 50.        ,\n",
       "       29.69911765,  3.        , 52.        , 40.        , 29.69911765,\n",
       "       36.        , 16.        , 25.        , 58.        , 35.        ,\n",
       "       29.69911765, 25.        , 41.        , 37.        , 29.69911765,\n",
       "       63.        , 45.        , 29.69911765,  7.        , 35.        ,\n",
       "       65.        , 28.        , 16.        , 19.        , 29.69911765,\n",
       "       33.        , 30.        , 22.        , 42.        , 22.        ,\n",
       "       26.        , 19.        , 36.        , 24.        , 24.        ,\n",
       "       29.69911765, 23.5       ,  2.        , 29.69911765, 50.        ,\n",
       "       29.69911765, 29.69911765, 19.        , 29.69911765, 29.69911765,\n",
       "        0.92      , 29.69911765, 17.        , 30.        , 30.        ,\n",
       "       24.        , 18.        , 26.        , 28.        , 43.        ,\n",
       "       26.        , 24.        , 54.        , 31.        , 40.        ,\n",
       "       22.        , 27.        , 30.        , 22.        , 29.69911765,\n",
       "       36.        , 61.        , 36.        , 31.        , 16.        ,\n",
       "       29.69911765, 45.5       , 38.        , 16.        , 29.69911765,\n",
       "       29.69911765, 29.        , 41.        , 45.        , 45.        ,\n",
       "        2.        , 24.        , 28.        , 25.        , 36.        ,\n",
       "       24.        , 40.        , 29.69911765,  3.        , 42.        ,\n",
       "       23.        , 29.69911765, 15.        , 25.        , 29.69911765,\n",
       "       28.        , 22.        , 38.        , 29.69911765, 29.69911765,\n",
       "       40.        , 29.        , 45.        , 35.        , 29.69911765,\n",
       "       30.        , 60.        , 29.69911765, 29.69911765, 24.        ,\n",
       "       25.        , 18.        , 19.        , 22.        ,  3.        ,\n",
       "       29.69911765, 22.        , 27.        , 20.        , 19.        ,\n",
       "       42.        ,  1.        , 32.        , 35.        , 29.69911765,\n",
       "       18.        ,  1.        , 36.        , 29.69911765, 17.        ,\n",
       "       36.        , 21.        , 28.        , 23.        , 24.        ,\n",
       "       22.        , 31.        , 46.        , 23.        , 28.        ,\n",
       "       39.        , 26.        , 21.        , 28.        , 20.        ,\n",
       "       34.        , 51.        ,  3.        , 21.        , 29.69911765,\n",
       "       29.69911765, 29.69911765, 33.        , 29.69911765, 44.        ,\n",
       "       29.69911765, 34.        , 18.        , 30.        , 10.        ,\n",
       "       29.69911765, 21.        , 29.        , 28.        , 18.        ,\n",
       "       29.69911765, 28.        , 19.        , 29.69911765, 32.        ,\n",
       "       28.        , 29.69911765, 42.        , 17.        , 50.        ,\n",
       "       14.        , 21.        , 24.        , 64.        , 31.        ,\n",
       "       45.        , 20.        , 25.        , 28.        , 29.69911765,\n",
       "        4.        , 13.        , 34.        ,  5.        , 52.        ,\n",
       "       36.        , 29.69911765, 30.        , 49.        , 29.69911765,\n",
       "       29.        , 65.        , 29.69911765, 50.        , 29.69911765,\n",
       "       48.        , 34.        , 47.        , 48.        , 29.69911765,\n",
       "       38.        , 29.69911765, 56.        , 29.69911765,  0.75      ,\n",
       "       29.69911765, 38.        , 33.        , 23.        , 22.        ,\n",
       "       29.69911765, 34.        , 29.        , 22.        ,  2.        ,\n",
       "        9.        , 29.69911765, 50.        , 63.        , 25.        ,\n",
       "       29.69911765, 35.        , 58.        , 30.        ,  9.        ,\n",
       "       29.69911765, 21.        , 55.        , 71.        , 21.        ,\n",
       "       29.69911765, 54.        , 29.69911765, 25.        , 24.        ,\n",
       "       17.        , 21.        , 29.69911765, 37.        , 16.        ,\n",
       "       18.        , 33.        , 29.69911765, 28.        , 26.        ,\n",
       "       29.        , 29.69911765, 36.        , 54.        , 24.        ,\n",
       "       47.        , 34.        , 29.69911765, 36.        , 32.        ,\n",
       "       30.        , 22.        , 29.69911765, 44.        , 29.69911765,\n",
       "       40.5       , 50.        , 29.69911765, 39.        , 23.        ,\n",
       "        2.        , 29.69911765, 17.        , 29.69911765, 30.        ,\n",
       "        7.        , 45.        , 30.        , 29.69911765, 22.        ,\n",
       "       36.        ,  9.        , 11.        , 32.        , 50.        ,\n",
       "       64.        , 19.        , 29.69911765, 33.        ,  8.        ,\n",
       "       17.        , 27.        , 29.69911765, 22.        , 22.        ,\n",
       "       62.        , 48.        , 29.69911765, 39.        , 36.        ,\n",
       "       29.69911765, 40.        , 28.        , 29.69911765, 29.69911765,\n",
       "       24.        , 19.        , 29.        , 29.69911765, 32.        ,\n",
       "       62.        , 53.        , 36.        , 29.69911765, 16.        ,\n",
       "       19.        , 34.        , 39.        , 29.69911765, 32.        ,\n",
       "       25.        , 39.        , 54.        , 36.        , 29.69911765,\n",
       "       18.        , 47.        , 60.        , 22.        , 29.69911765,\n",
       "       35.        , 52.        , 47.        , 29.69911765, 37.        ,\n",
       "       36.        , 29.69911765, 49.        , 29.69911765, 49.        ,\n",
       "       24.        , 29.69911765, 29.69911765, 44.        , 35.        ,\n",
       "       36.        , 30.        , 27.        , 22.        , 40.        ,\n",
       "       39.        , 29.69911765, 29.69911765, 29.69911765, 35.        ,\n",
       "       24.        , 34.        , 26.        ,  4.        , 26.        ,\n",
       "       27.        , 42.        , 20.        , 21.        , 21.        ,\n",
       "       61.        , 57.        , 21.        , 26.        , 29.69911765,\n",
       "       80.        , 51.        , 32.        , 29.69911765,  9.        ,\n",
       "       28.        , 32.        , 31.        , 41.        , 29.69911765,\n",
       "       20.        , 24.        ,  2.        , 29.69911765,  0.75      ,\n",
       "       48.        , 19.        , 56.        , 29.69911765, 23.        ,\n",
       "       29.69911765, 18.        , 21.        , 29.69911765, 18.        ,\n",
       "       24.        , 29.69911765, 32.        , 23.        , 58.        ,\n",
       "       50.        , 40.        , 47.        , 36.        , 20.        ,\n",
       "       32.        , 25.        , 29.69911765, 43.        , 29.69911765,\n",
       "       40.        , 31.        , 70.        , 31.        , 29.69911765,\n",
       "       18.        , 24.5       , 18.        , 43.        , 36.        ,\n",
       "       29.69911765, 27.        , 20.        , 14.        , 60.        ,\n",
       "       25.        , 14.        , 19.        , 18.        , 15.        ,\n",
       "       31.        ,  4.        , 29.69911765, 25.        , 60.        ,\n",
       "       52.        , 44.        , 29.69911765, 49.        , 42.        ,\n",
       "       18.        , 35.        , 18.        , 25.        , 26.        ,\n",
       "       39.        , 45.        , 42.        , 22.        , 29.69911765,\n",
       "       24.        , 29.69911765, 48.        , 29.        , 52.        ,\n",
       "       19.        , 38.        , 27.        , 29.69911765, 33.        ,\n",
       "        6.        , 17.        , 34.        , 50.        , 27.        ,\n",
       "       20.        , 30.        , 29.69911765, 25.        , 25.        ,\n",
       "       29.        , 11.        , 29.69911765, 23.        , 23.        ,\n",
       "       28.5       , 48.        , 35.        , 29.69911765, 29.69911765,\n",
       "       29.69911765, 36.        , 21.        , 24.        , 31.        ,\n",
       "       70.        , 16.        , 30.        , 19.        , 31.        ,\n",
       "        4.        ,  6.        , 33.        , 23.        , 48.        ,\n",
       "        0.67      , 28.        , 18.        , 34.        , 33.        ,\n",
       "       29.69911765, 41.        , 20.        , 36.        , 16.        ,\n",
       "       51.        , 29.69911765, 30.5       , 29.69911765, 32.        ,\n",
       "       24.        , 48.        , 57.        , 29.69911765, 54.        ,\n",
       "       18.        , 29.69911765,  5.        , 29.69911765, 43.        ,\n",
       "       13.        , 17.        , 29.        , 29.69911765, 25.        ,\n",
       "       25.        , 18.        ,  8.        ,  1.        , 46.        ,\n",
       "       29.69911765, 16.        , 29.69911765, 29.69911765, 25.        ,\n",
       "       39.        , 49.        , 31.        , 30.        , 30.        ,\n",
       "       34.        , 31.        , 11.        ,  0.42      , 27.        ,\n",
       "       31.        , 39.        , 18.        , 39.        , 33.        ,\n",
       "       26.        , 39.        , 35.        ,  6.        , 30.5       ,\n",
       "       29.69911765, 23.        , 31.        , 43.        , 10.        ,\n",
       "       52.        , 27.        , 38.        , 27.        ,  2.        ,\n",
       "       29.69911765, 29.69911765,  1.        , 29.69911765, 62.        ,\n",
       "       15.        ,  0.83      , 29.69911765, 23.        , 18.        ,\n",
       "       39.        , 21.        , 29.69911765, 32.        , 29.69911765,\n",
       "       20.        , 16.        , 30.        , 34.5       , 17.        ,\n",
       "       42.        , 29.69911765, 35.        , 28.        , 29.69911765,\n",
       "        4.        , 74.        ,  9.        , 16.        , 44.        ,\n",
       "       18.        , 45.        , 51.        , 24.        , 29.69911765,\n",
       "       41.        , 21.        , 48.        , 29.69911765, 24.        ,\n",
       "       42.        , 27.        , 31.        , 29.69911765,  4.        ,\n",
       "       26.        , 47.        , 33.        , 47.        , 28.        ,\n",
       "       15.        , 20.        , 19.        , 29.69911765, 56.        ,\n",
       "       25.        , 33.        , 22.        , 28.        , 25.        ,\n",
       "       39.        , 27.        , 19.        , 29.69911765, 26.        ,\n",
       "       32.        ])"
      ]
     },
     "execution_count": 25,
     "metadata": {},
     "output_type": "execute_result"
    }
   ],
   "source": [
    "# Option 1\n",
    "# using fill na\n",
    "features['Age'].fillna(features['Age'].mean()).values"
   ]
  },
  {
   "cell_type": "code",
   "execution_count": 26,
   "id": "b3331430",
   "metadata": {
    "execution": {
     "iopub.execute_input": "2021-10-12T08:26:12.231143Z",
     "iopub.status.busy": "2021-10-12T08:26:12.230236Z",
     "iopub.status.idle": "2021-10-12T08:26:12.236341Z",
     "shell.execute_reply": "2021-10-12T08:26:12.236784Z",
     "shell.execute_reply.started": "2021-10-12T08:24:40.254147Z"
    },
    "papermill": {
     "duration": 0.065455,
     "end_time": "2021-10-12T08:26:12.236945",
     "exception": false,
     "start_time": "2021-10-12T08:26:12.171490",
     "status": "completed"
    },
    "tags": []
   },
   "outputs": [
    {
     "data": {
      "text/plain": [
       "0"
      ]
     },
     "execution_count": 26,
     "metadata": {},
     "output_type": "execute_result"
    }
   ],
   "source": [
    "features['Age'].fillna(features['Age'].mean()).isna().sum()"
   ]
  },
  {
   "cell_type": "code",
   "execution_count": 27,
   "id": "554a3926",
   "metadata": {
    "execution": {
     "iopub.execute_input": "2021-10-12T08:26:12.352811Z",
     "iopub.status.busy": "2021-10-12T08:26:12.351911Z",
     "iopub.status.idle": "2021-10-12T08:26:12.664665Z",
     "shell.execute_reply": "2021-10-12T08:26:12.664156Z",
     "shell.execute_reply.started": "2021-10-12T08:24:40.265045Z"
    },
    "papermill": {
     "duration": 0.371934,
     "end_time": "2021-10-12T08:26:12.664811",
     "exception": false,
     "start_time": "2021-10-12T08:26:12.292877",
     "status": "completed"
    },
    "tags": []
   },
   "outputs": [],
   "source": [
    "# option 2 (Prefered)\n",
    "from sklearn.impute import SimpleImputer\n",
    "from sklearn.pipeline import Pipeline\n",
    "from sklearn.compose import ColumnTransformer"
   ]
  },
  {
   "cell_type": "code",
   "execution_count": 28,
   "id": "344d257e",
   "metadata": {
    "execution": {
     "iopub.execute_input": "2021-10-12T08:26:12.781292Z",
     "iopub.status.busy": "2021-10-12T08:26:12.780669Z",
     "iopub.status.idle": "2021-10-12T08:26:12.783846Z",
     "shell.execute_reply": "2021-10-12T08:26:12.784338Z",
     "shell.execute_reply.started": "2021-10-12T08:24:40.277661Z"
    },
    "papermill": {
     "duration": 0.063433,
     "end_time": "2021-10-12T08:26:12.784523",
     "exception": false,
     "start_time": "2021-10-12T08:26:12.721090",
     "status": "completed"
    },
    "tags": []
   },
   "outputs": [],
   "source": [
    "imputer = SimpleImputer(strategy=\"mean\")"
   ]
  },
  {
   "cell_type": "code",
   "execution_count": 29,
   "id": "8b5eef3c",
   "metadata": {
    "execution": {
     "iopub.execute_input": "2021-10-12T08:26:12.908656Z",
     "iopub.status.busy": "2021-10-12T08:26:12.906949Z",
     "iopub.status.idle": "2021-10-12T08:26:12.914037Z",
     "shell.execute_reply": "2021-10-12T08:26:12.913471Z",
     "shell.execute_reply.started": "2021-10-12T08:24:40.292480Z"
    },
    "papermill": {
     "duration": 0.071671,
     "end_time": "2021-10-12T08:26:12.914167",
     "exception": false,
     "start_time": "2021-10-12T08:26:12.842496",
     "status": "completed"
    },
    "tags": []
   },
   "outputs": [
    {
     "data": {
      "text/plain": [
       "array([[22.        ,  1.        ,  0.        ,  7.25      ],\n",
       "       [38.        ,  1.        ,  0.        , 71.2833    ],\n",
       "       [26.        ,  0.        ,  0.        ,  7.925     ],\n",
       "       ...,\n",
       "       [29.69911765,  1.        ,  2.        , 23.45      ],\n",
       "       [26.        ,  0.        ,  0.        , 30.        ],\n",
       "       [32.        ,  0.        ,  0.        ,  7.75      ]])"
      ]
     },
     "execution_count": 29,
     "metadata": {},
     "output_type": "execute_result"
    }
   ],
   "source": [
    "imputer.fit_transform(features[num_cols])"
   ]
  },
  {
   "cell_type": "code",
   "execution_count": 30,
   "id": "b0bc7e2c",
   "metadata": {
    "execution": {
     "iopub.execute_input": "2021-10-12T08:26:13.036242Z",
     "iopub.status.busy": "2021-10-12T08:26:13.035311Z",
     "iopub.status.idle": "2021-10-12T08:26:13.038090Z",
     "shell.execute_reply": "2021-10-12T08:26:13.037526Z",
     "shell.execute_reply.started": "2021-10-12T08:24:40.314801Z"
    },
    "papermill": {
     "duration": 0.065229,
     "end_time": "2021-10-12T08:26:13.038226",
     "exception": false,
     "start_time": "2021-10-12T08:26:12.972997",
     "status": "completed"
    },
    "tags": []
   },
   "outputs": [],
   "source": [
    "# Making a numerical data pipeline\n",
    "from sklearn.preprocessing import StandardScaler\n",
    "num_pipeline = Pipeline([\n",
    "    (\"imputer\",SimpleImputer(strategy='mean')),\n",
    "    (\"scaler\",StandardScaler())\n",
    "])"
   ]
  },
  {
   "cell_type": "code",
   "execution_count": 31,
   "id": "3580e760",
   "metadata": {
    "execution": {
     "iopub.execute_input": "2021-10-12T08:26:13.161445Z",
     "iopub.status.busy": "2021-10-12T08:26:13.159214Z",
     "iopub.status.idle": "2021-10-12T08:26:13.166580Z",
     "shell.execute_reply": "2021-10-12T08:26:13.167027Z",
     "shell.execute_reply.started": "2021-10-12T08:24:40.325140Z"
    },
    "papermill": {
     "duration": 0.071816,
     "end_time": "2021-10-12T08:26:13.167204",
     "exception": false,
     "start_time": "2021-10-12T08:26:13.095388",
     "status": "completed"
    },
    "tags": []
   },
   "outputs": [
    {
     "data": {
      "text/plain": [
       "array([[-0.5924806 ,  0.43279337, -0.47367361, -0.50244517],\n",
       "       [ 0.63878901,  0.43279337, -0.47367361,  0.78684529],\n",
       "       [-0.2846632 , -0.4745452 , -0.47367361, -0.48885426],\n",
       "       ...,\n",
       "       [ 0.        ,  0.43279337,  2.00893337, -0.17626324],\n",
       "       [-0.2846632 , -0.4745452 , -0.47367361, -0.04438104],\n",
       "       [ 0.17706291, -0.4745452 , -0.47367361, -0.49237783]])"
      ]
     },
     "execution_count": 31,
     "metadata": {},
     "output_type": "execute_result"
    }
   ],
   "source": [
    "num_pipeline.fit_transform(features[num_cols])"
   ]
  },
  {
   "cell_type": "markdown",
   "id": "3cf3f7d9",
   "metadata": {
    "papermill": {
     "duration": 0.056545,
     "end_time": "2021-10-12T08:26:13.280953",
     "exception": false,
     "start_time": "2021-10-12T08:26:13.224408",
     "status": "completed"
    },
    "tags": []
   },
   "source": [
    "So, We have prepared the numerical data. Lets move towards the categorical data\n",
    "\n",
    "Note- There are no library for imputating categorical data"
   ]
  },
  {
   "cell_type": "code",
   "execution_count": 32,
   "id": "17d1f1e4",
   "metadata": {
    "execution": {
     "iopub.execute_input": "2021-10-12T08:26:13.400410Z",
     "iopub.status.busy": "2021-10-12T08:26:13.399445Z",
     "iopub.status.idle": "2021-10-12T08:26:13.407910Z",
     "shell.execute_reply": "2021-10-12T08:26:13.407424Z",
     "shell.execute_reply.started": "2021-10-12T08:24:40.350589Z"
    },
    "papermill": {
     "duration": 0.070087,
     "end_time": "2021-10-12T08:26:13.408045",
     "exception": false,
     "start_time": "2021-10-12T08:26:13.337958",
     "status": "completed"
    },
    "tags": []
   },
   "outputs": [
    {
     "data": {
      "text/html": [
       "<div>\n",
       "<style scoped>\n",
       "    .dataframe tbody tr th:only-of-type {\n",
       "        vertical-align: middle;\n",
       "    }\n",
       "\n",
       "    .dataframe tbody tr th {\n",
       "        vertical-align: top;\n",
       "    }\n",
       "\n",
       "    .dataframe thead th {\n",
       "        text-align: right;\n",
       "    }\n",
       "</style>\n",
       "<table border=\"1\" class=\"dataframe\">\n",
       "  <thead>\n",
       "    <tr style=\"text-align: right;\">\n",
       "      <th></th>\n",
       "      <th>Pclass</th>\n",
       "      <th>Sex</th>\n",
       "      <th>Embarked</th>\n",
       "    </tr>\n",
       "  </thead>\n",
       "  <tbody>\n",
       "    <tr>\n",
       "      <th>0</th>\n",
       "      <td>3</td>\n",
       "      <td>male</td>\n",
       "      <td>S</td>\n",
       "    </tr>\n",
       "    <tr>\n",
       "      <th>1</th>\n",
       "      <td>1</td>\n",
       "      <td>female</td>\n",
       "      <td>C</td>\n",
       "    </tr>\n",
       "    <tr>\n",
       "      <th>2</th>\n",
       "      <td>3</td>\n",
       "      <td>female</td>\n",
       "      <td>S</td>\n",
       "    </tr>\n",
       "    <tr>\n",
       "      <th>3</th>\n",
       "      <td>1</td>\n",
       "      <td>female</td>\n",
       "      <td>S</td>\n",
       "    </tr>\n",
       "    <tr>\n",
       "      <th>4</th>\n",
       "      <td>3</td>\n",
       "      <td>male</td>\n",
       "      <td>S</td>\n",
       "    </tr>\n",
       "  </tbody>\n",
       "</table>\n",
       "</div>"
      ],
      "text/plain": [
       "   Pclass     Sex Embarked\n",
       "0       3    male        S\n",
       "1       1  female        C\n",
       "2       3  female        S\n",
       "3       1  female        S\n",
       "4       3    male        S"
      ]
     },
     "execution_count": 32,
     "metadata": {},
     "output_type": "execute_result"
    }
   ],
   "source": [
    "# Lets again observe the categorical data\n",
    "features[cat_cols].head()"
   ]
  },
  {
   "cell_type": "code",
   "execution_count": 33,
   "id": "05385752",
   "metadata": {
    "execution": {
     "iopub.execute_input": "2021-10-12T08:26:13.531857Z",
     "iopub.status.busy": "2021-10-12T08:26:13.531206Z",
     "iopub.status.idle": "2021-10-12T08:26:13.533757Z",
     "shell.execute_reply": "2021-10-12T08:26:13.534175Z",
     "shell.execute_reply.started": "2021-10-12T08:24:40.363041Z"
    },
    "papermill": {
     "duration": 0.068951,
     "end_time": "2021-10-12T08:26:13.534355",
     "exception": false,
     "start_time": "2021-10-12T08:26:13.465404",
     "status": "completed"
    },
    "tags": []
   },
   "outputs": [
    {
     "data": {
      "text/plain": [
       "Pclass      0\n",
       "Sex         0\n",
       "Embarked    2\n",
       "dtype: int64"
      ]
     },
     "execution_count": 33,
     "metadata": {},
     "output_type": "execute_result"
    }
   ],
   "source": [
    "features[cat_cols].isna().sum()"
   ]
  },
  {
   "cell_type": "markdown",
   "id": "1a7d0407",
   "metadata": {
    "papermill": {
     "duration": 0.056724,
     "end_time": "2021-10-12T08:26:13.647949",
     "exception": false,
     "start_time": "2021-10-12T08:26:13.591225",
     "status": "completed"
    },
    "tags": []
   },
   "source": [
    "Only two values are missing from the column \"Embarked\""
   ]
  },
  {
   "cell_type": "code",
   "execution_count": 34,
   "id": "8e0e3fa8",
   "metadata": {
    "execution": {
     "iopub.execute_input": "2021-10-12T08:26:13.770818Z",
     "iopub.status.busy": "2021-10-12T08:26:13.766542Z",
     "iopub.status.idle": "2021-10-12T08:26:13.774755Z",
     "shell.execute_reply": "2021-10-12T08:26:13.774163Z",
     "shell.execute_reply.started": "2021-10-12T08:24:40.382021Z"
    },
    "papermill": {
     "duration": 0.0698,
     "end_time": "2021-10-12T08:26:13.774893",
     "exception": false,
     "start_time": "2021-10-12T08:26:13.705093",
     "status": "completed"
    },
    "tags": []
   },
   "outputs": [
    {
     "data": {
      "text/plain": [
       "S    644\n",
       "C    168\n",
       "Q     77\n",
       "Name: Embarked, dtype: int64"
      ]
     },
     "execution_count": 34,
     "metadata": {},
     "output_type": "execute_result"
    }
   ],
   "source": [
    "features[\"Embarked\"].value_counts()"
   ]
  },
  {
   "cell_type": "code",
   "execution_count": 35,
   "id": "8e534351",
   "metadata": {
    "execution": {
     "iopub.execute_input": "2021-10-12T08:26:13.895734Z",
     "iopub.status.busy": "2021-10-12T08:26:13.895126Z",
     "iopub.status.idle": "2021-10-12T08:26:13.897975Z",
     "shell.execute_reply": "2021-10-12T08:26:13.898416Z",
     "shell.execute_reply.started": "2021-10-12T08:24:40.399564Z"
    },
    "papermill": {
     "duration": 0.06648,
     "end_time": "2021-10-12T08:26:13.898588",
     "exception": false,
     "start_time": "2021-10-12T08:26:13.832108",
     "status": "completed"
    },
    "tags": []
   },
   "outputs": [
    {
     "data": {
      "text/plain": [
       "0"
      ]
     },
     "execution_count": 35,
     "metadata": {},
     "output_type": "execute_result"
    }
   ],
   "source": [
    "# From above we can see that the most frequent value here is \"S\".\n",
    "# So let's fill that value in our 2 missing \"Embarked\" rows\n",
    "features[\"Embarked\"].fillna(\"S\").isna().sum()"
   ]
  },
  {
   "cell_type": "code",
   "execution_count": 36,
   "id": "38c7051b",
   "metadata": {
    "execution": {
     "iopub.execute_input": "2021-10-12T08:26:14.018172Z",
     "iopub.status.busy": "2021-10-12T08:26:14.017602Z",
     "iopub.status.idle": "2021-10-12T08:26:14.024225Z",
     "shell.execute_reply": "2021-10-12T08:26:14.023736Z",
     "shell.execute_reply.started": "2021-10-12T08:24:40.418497Z"
    },
    "papermill": {
     "duration": 0.06844,
     "end_time": "2021-10-12T08:26:14.024384",
     "exception": false,
     "start_time": "2021-10-12T08:26:13.955944",
     "status": "completed"
    },
    "tags": []
   },
   "outputs": [],
   "source": [
    "# Creating a custom imputer\n",
    "from sklearn.base import BaseEstimator, TransformerMixin\n",
    "class MostFrequentImputer(BaseEstimator, TransformerMixin):\n",
    "    def fit(self, X, y=None):\n",
    "        self.most_frequent = pd.Series([X[c].value_counts().index[0] for c in X], index=X.columns)\n",
    "        return self\n",
    "    def transform(self,X,y=None):\n",
    "        return X.fillna(self.most_frequent)"
   ]
  },
  {
   "cell_type": "code",
   "execution_count": 37,
   "id": "653374e0",
   "metadata": {
    "execution": {
     "iopub.execute_input": "2021-10-12T08:26:14.144501Z",
     "iopub.status.busy": "2021-10-12T08:26:14.142406Z",
     "iopub.status.idle": "2021-10-12T08:26:14.146908Z",
     "shell.execute_reply": "2021-10-12T08:26:14.147325Z",
     "shell.execute_reply.started": "2021-10-12T08:24:40.433314Z"
    },
    "papermill": {
     "duration": 0.065367,
     "end_time": "2021-10-12T08:26:14.147501",
     "exception": false,
     "start_time": "2021-10-12T08:26:14.082134",
     "status": "completed"
    },
    "tags": []
   },
   "outputs": [],
   "source": [
    "# One hot encoding\n",
    "from sklearn.preprocessing import OneHotEncoder\n",
    "cat_pipeline = Pipeline([\n",
    "    ('cat_imputer',MostFrequentImputer()),\n",
    "    #('one_hot',OneHotEncoder(sparse=False))\n",
    "    ('one_hot',OneHotEncoder())\n",
    "])"
   ]
  },
  {
   "cell_type": "code",
   "execution_count": 38,
   "id": "10894e52",
   "metadata": {
    "execution": {
     "iopub.execute_input": "2021-10-12T08:26:14.272814Z",
     "iopub.status.busy": "2021-10-12T08:26:14.271839Z",
     "iopub.status.idle": "2021-10-12T08:26:14.278530Z",
     "shell.execute_reply": "2021-10-12T08:26:14.277946Z",
     "shell.execute_reply.started": "2021-10-12T08:24:40.447120Z"
    },
    "papermill": {
     "duration": 0.073724,
     "end_time": "2021-10-12T08:26:14.278678",
     "exception": false,
     "start_time": "2021-10-12T08:26:14.204954",
     "status": "completed"
    },
    "tags": []
   },
   "outputs": [
    {
     "data": {
      "text/plain": [
       "<891x8 sparse matrix of type '<class 'numpy.float64'>'\n",
       "\twith 2673 stored elements in Compressed Sparse Row format>"
      ]
     },
     "execution_count": 38,
     "metadata": {},
     "output_type": "execute_result"
    }
   ],
   "source": [
    "cat_pipeline.fit_transform(features[cat_cols])"
   ]
  },
  {
   "cell_type": "code",
   "execution_count": 39,
   "id": "f1f08959",
   "metadata": {
    "execution": {
     "iopub.execute_input": "2021-10-12T08:26:14.397737Z",
     "iopub.status.busy": "2021-10-12T08:26:14.397120Z",
     "iopub.status.idle": "2021-10-12T08:26:14.411869Z",
     "shell.execute_reply": "2021-10-12T08:26:14.412361Z",
     "shell.execute_reply.started": "2021-10-12T08:24:40.472438Z"
    },
    "papermill": {
     "duration": 0.075924,
     "end_time": "2021-10-12T08:26:14.412537",
     "exception": false,
     "start_time": "2021-10-12T08:26:14.336613",
     "status": "completed"
    },
    "tags": []
   },
   "outputs": [],
   "source": [
    "X_num = num_pipeline.fit_transform(features[num_cols])\n",
    "X_cat = cat_pipeline.fit_transform(features[cat_cols]).toarray()"
   ]
  },
  {
   "cell_type": "code",
   "execution_count": 40,
   "id": "6c17d88d",
   "metadata": {
    "execution": {
     "iopub.execute_input": "2021-10-12T08:26:14.532925Z",
     "iopub.status.busy": "2021-10-12T08:26:14.531993Z",
     "iopub.status.idle": "2021-10-12T08:26:14.535427Z",
     "shell.execute_reply": "2021-10-12T08:26:14.535865Z",
     "shell.execute_reply.started": "2021-10-12T08:24:40.498610Z"
    },
    "papermill": {
     "duration": 0.065779,
     "end_time": "2021-10-12T08:26:14.536025",
     "exception": false,
     "start_time": "2021-10-12T08:26:14.470246",
     "status": "completed"
    },
    "tags": []
   },
   "outputs": [],
   "source": [
    "X_final = np.c_[X_num,X_cat]"
   ]
  },
  {
   "cell_type": "code",
   "execution_count": 41,
   "id": "b3b8a83b",
   "metadata": {
    "execution": {
     "iopub.execute_input": "2021-10-12T08:26:14.655307Z",
     "iopub.status.busy": "2021-10-12T08:26:14.654713Z",
     "iopub.status.idle": "2021-10-12T08:26:14.661203Z",
     "shell.execute_reply": "2021-10-12T08:26:14.661979Z",
     "shell.execute_reply.started": "2021-10-12T08:24:40.505988Z"
    },
    "papermill": {
     "duration": 0.068176,
     "end_time": "2021-10-12T08:26:14.662247",
     "exception": false,
     "start_time": "2021-10-12T08:26:14.594071",
     "status": "completed"
    },
    "tags": []
   },
   "outputs": [
    {
     "name": "stdout",
     "output_type": "stream",
     "text": [
      "[[-0.5924806   0.43279337 -0.47367361 -0.50244517  0.          0.\n",
      "   1.          0.          1.          0.          0.          1.        ]\n",
      " [ 0.63878901  0.43279337 -0.47367361  0.78684529  1.          0.\n",
      "   0.          1.          0.          1.          0.          0.        ]\n",
      " [-0.2846632  -0.4745452  -0.47367361 -0.48885426  0.          0.\n",
      "   1.          1.          0.          0.          0.          1.        ]\n",
      " [ 0.40792596  0.43279337 -0.47367361  0.42073024  1.          0.\n",
      "   0.          1.          0.          0.          0.          1.        ]\n",
      " [ 0.40792596 -0.4745452  -0.47367361 -0.48633742  0.          0.\n",
      "   1.          0.          1.          0.          0.          1.        ]]\n"
     ]
    }
   ],
   "source": [
    "print(X_final[:5])"
   ]
  },
  {
   "cell_type": "code",
   "execution_count": 42,
   "id": "e0a29dc3",
   "metadata": {
    "execution": {
     "iopub.execute_input": "2021-10-12T08:26:14.784867Z",
     "iopub.status.busy": "2021-10-12T08:26:14.784181Z",
     "iopub.status.idle": "2021-10-12T08:26:14.788468Z",
     "shell.execute_reply": "2021-10-12T08:26:14.788921Z",
     "shell.execute_reply.started": "2021-10-12T08:24:40.533883Z"
    },
    "papermill": {
     "duration": 0.067102,
     "end_time": "2021-10-12T08:26:14.789081",
     "exception": false,
     "start_time": "2021-10-12T08:26:14.721979",
     "status": "completed"
    },
    "tags": []
   },
   "outputs": [
    {
     "data": {
      "text/plain": [
       "(891, 12)"
      ]
     },
     "execution_count": 42,
     "metadata": {},
     "output_type": "execute_result"
    }
   ],
   "source": [
    "X_final.shape"
   ]
  },
  {
   "cell_type": "code",
   "execution_count": 43,
   "id": "52ac0516",
   "metadata": {
    "execution": {
     "iopub.execute_input": "2021-10-12T08:26:14.911461Z",
     "iopub.status.busy": "2021-10-12T08:26:14.909078Z",
     "iopub.status.idle": "2021-10-12T08:26:14.916067Z",
     "shell.execute_reply": "2021-10-12T08:26:14.916560Z",
     "shell.execute_reply.started": "2021-10-12T08:24:40.545999Z"
    },
    "papermill": {
     "duration": 0.068811,
     "end_time": "2021-10-12T08:26:14.916767",
     "exception": false,
     "start_time": "2021-10-12T08:26:14.847956",
     "status": "completed"
    },
    "tags": []
   },
   "outputs": [],
   "source": [
    "# SPliting the data in training and test set\n",
    "from sklearn.model_selection import train_test_split\n",
    "X_train, X_test, y_train, y_test = train_test_split(X_final, labels, test_size=0.2, random_state=1234)"
   ]
  },
  {
   "cell_type": "code",
   "execution_count": 44,
   "id": "6c5479f6",
   "metadata": {
    "execution": {
     "iopub.execute_input": "2021-10-12T08:26:15.041041Z",
     "iopub.status.busy": "2021-10-12T08:26:15.040369Z",
     "iopub.status.idle": "2021-10-12T08:26:15.043839Z",
     "shell.execute_reply": "2021-10-12T08:26:15.043210Z",
     "shell.execute_reply.started": "2021-10-12T08:24:40.562237Z"
    },
    "papermill": {
     "duration": 0.068042,
     "end_time": "2021-10-12T08:26:15.043990",
     "exception": false,
     "start_time": "2021-10-12T08:26:14.975948",
     "status": "completed"
    },
    "tags": []
   },
   "outputs": [
    {
     "name": "stdout",
     "output_type": "stream",
     "text": [
      "Training set shape: (712, 12)\n",
      "Testing set shape: (179, 12)\n"
     ]
    }
   ],
   "source": [
    "print(f\"Training set shape: {X_train.shape}\")\n",
    "print(f\"Testing set shape: {X_test.shape}\")"
   ]
  },
  {
   "cell_type": "code",
   "execution_count": 45,
   "id": "5d551503",
   "metadata": {
    "execution": {
     "iopub.execute_input": "2021-10-12T08:26:15.170142Z",
     "iopub.status.busy": "2021-10-12T08:26:15.169412Z",
     "iopub.status.idle": "2021-10-12T08:26:15.172830Z",
     "shell.execute_reply": "2021-10-12T08:26:15.173284Z",
     "shell.execute_reply.started": "2021-10-12T08:24:40.579353Z"
    },
    "papermill": {
     "duration": 0.069205,
     "end_time": "2021-10-12T08:26:15.173450",
     "exception": false,
     "start_time": "2021-10-12T08:26:15.104245",
     "status": "completed"
    },
    "tags": []
   },
   "outputs": [
    {
     "name": "stdout",
     "output_type": "stream",
     "text": [
      "Features:  [[-1.36202411  0.43279337 -0.47367361 -0.42207354  0.          0.\n",
      "   1.          0.          1.          1.          0.          0.        ]\n",
      " [-2.21467831  0.43279337  2.00893337  2.40299019  1.          0.\n",
      "   0.          0.          1.          0.          0.          1.        ]\n",
      " [ 1.63919557 -0.4745452  -0.47367361 -0.50638754  0.          0.\n",
      "   1.          0.          1.          0.          0.          1.        ]\n",
      " [ 0.         -0.4745452  -0.47367361  0.48910361  0.          0.\n",
      "   1.          0.          1.          0.          0.          1.        ]\n",
      " [ 0.71574336 -0.4745452  -0.47367361 -0.38667072  0.          1.\n",
      "   0.          0.          1.          0.          0.          1.        ]]\n",
      "Labels:  [1 1 0 1 0]\n"
     ]
    }
   ],
   "source": [
    "print(\"Features: \", X_train[:5])\n",
    "print(\"Labels: \", y_train[:5])"
   ]
  },
  {
   "cell_type": "code",
   "execution_count": 46,
   "id": "f92a95bc",
   "metadata": {
    "execution": {
     "iopub.execute_input": "2021-10-12T08:26:15.296785Z",
     "iopub.status.busy": "2021-10-12T08:26:15.296123Z",
     "iopub.status.idle": "2021-10-12T08:26:15.320760Z",
     "shell.execute_reply": "2021-10-12T08:26:15.321249Z",
     "shell.execute_reply.started": "2021-10-12T08:24:40.594638Z"
    },
    "papermill": {
     "duration": 0.088537,
     "end_time": "2021-10-12T08:26:15.321490",
     "exception": false,
     "start_time": "2021-10-12T08:26:15.232953",
     "status": "completed"
    },
    "tags": []
   },
   "outputs": [],
   "source": [
    "# Start the training\n",
    "from sklearn.tree import DecisionTreeClassifier\n",
    "from sklearn.linear_model import LogisticRegression"
   ]
  },
  {
   "cell_type": "code",
   "execution_count": 47,
   "id": "61d23a01",
   "metadata": {
    "execution": {
     "iopub.execute_input": "2021-10-12T08:26:15.448764Z",
     "iopub.status.busy": "2021-10-12T08:26:15.448080Z",
     "iopub.status.idle": "2021-10-12T08:26:15.451068Z",
     "shell.execute_reply": "2021-10-12T08:26:15.451535Z",
     "shell.execute_reply.started": "2021-10-12T08:24:40.608677Z"
    },
    "papermill": {
     "duration": 0.069075,
     "end_time": "2021-10-12T08:26:15.451698",
     "exception": false,
     "start_time": "2021-10-12T08:26:15.382623",
     "status": "completed"
    },
    "tags": []
   },
   "outputs": [],
   "source": [
    "# Decicion Tree Classifier Model\n",
    "dt = DecisionTreeClassifier()"
   ]
  },
  {
   "cell_type": "code",
   "execution_count": 48,
   "id": "ab5ea4ef",
   "metadata": {
    "execution": {
     "iopub.execute_input": "2021-10-12T08:26:15.574700Z",
     "iopub.status.busy": "2021-10-12T08:26:15.574041Z",
     "iopub.status.idle": "2021-10-12T08:26:15.584054Z",
     "shell.execute_reply": "2021-10-12T08:26:15.584554Z",
     "shell.execute_reply.started": "2021-10-12T08:24:40.622706Z"
    },
    "papermill": {
     "duration": 0.072564,
     "end_time": "2021-10-12T08:26:15.584729",
     "exception": false,
     "start_time": "2021-10-12T08:26:15.512165",
     "status": "completed"
    },
    "tags": []
   },
   "outputs": [
    {
     "data": {
      "text/plain": [
       "DecisionTreeClassifier()"
      ]
     },
     "execution_count": 48,
     "metadata": {},
     "output_type": "execute_result"
    }
   ],
   "source": [
    "dt.fit(X_train, y_train)"
   ]
  },
  {
   "cell_type": "code",
   "execution_count": 49,
   "id": "d68481b9",
   "metadata": {
    "execution": {
     "iopub.execute_input": "2021-10-12T08:26:15.706772Z",
     "iopub.status.busy": "2021-10-12T08:26:15.706161Z",
     "iopub.status.idle": "2021-10-12T08:26:15.710939Z",
     "shell.execute_reply": "2021-10-12T08:26:15.711403Z",
     "shell.execute_reply.started": "2021-10-12T08:24:40.643091Z"
    },
    "papermill": {
     "duration": 0.067159,
     "end_time": "2021-10-12T08:26:15.711574",
     "exception": false,
     "start_time": "2021-10-12T08:26:15.644415",
     "status": "completed"
    },
    "tags": []
   },
   "outputs": [
    {
     "data": {
      "text/plain": [
       "0.8044692737430168"
      ]
     },
     "execution_count": 49,
     "metadata": {},
     "output_type": "execute_result"
    }
   ],
   "source": [
    "# Checking the score on testing dataset\n",
    "dt.score(X_test, y_test)"
   ]
  },
  {
   "cell_type": "code",
   "execution_count": 50,
   "id": "bf6fd2c9",
   "metadata": {
    "execution": {
     "iopub.execute_input": "2021-10-12T08:26:15.835790Z",
     "iopub.status.busy": "2021-10-12T08:26:15.835191Z",
     "iopub.status.idle": "2021-10-12T08:26:15.840088Z",
     "shell.execute_reply": "2021-10-12T08:26:15.840578Z",
     "shell.execute_reply.started": "2021-10-12T08:24:40.655228Z"
    },
    "papermill": {
     "duration": 0.068404,
     "end_time": "2021-10-12T08:26:15.840744",
     "exception": false,
     "start_time": "2021-10-12T08:26:15.772340",
     "status": "completed"
    },
    "tags": []
   },
   "outputs": [
    {
     "data": {
      "text/plain": [
       "0.9845505617977528"
      ]
     },
     "execution_count": 50,
     "metadata": {},
     "output_type": "execute_result"
    }
   ],
   "source": [
    "# Checking the score on training dataset\n",
    "dt.score(X_train, y_train)"
   ]
  },
  {
   "cell_type": "markdown",
   "id": "2495c772",
   "metadata": {
    "papermill": {
     "duration": 0.059871,
     "end_time": "2021-10-12T08:26:15.960613",
     "exception": false,
     "start_time": "2021-10-12T08:26:15.900742",
     "status": "completed"
    },
    "tags": []
   },
   "source": [
    "Score on traning dataset is slightly higher then testing data set so it is slightly overfiting"
   ]
  },
  {
   "cell_type": "code",
   "execution_count": 51,
   "id": "378f6926",
   "metadata": {
    "execution": {
     "iopub.execute_input": "2021-10-12T08:26:16.085917Z",
     "iopub.status.busy": "2021-10-12T08:26:16.085287Z",
     "iopub.status.idle": "2021-10-12T08:26:16.099834Z",
     "shell.execute_reply": "2021-10-12T08:26:16.099333Z",
     "shell.execute_reply.started": "2021-10-12T08:24:40.670736Z"
    },
    "papermill": {
     "duration": 0.077831,
     "end_time": "2021-10-12T08:26:16.099969",
     "exception": false,
     "start_time": "2021-10-12T08:26:16.022138",
     "status": "completed"
    },
    "tags": []
   },
   "outputs": [
    {
     "data": {
      "text/plain": [
       "LogisticRegression()"
      ]
     },
     "execution_count": 51,
     "metadata": {},
     "output_type": "execute_result"
    }
   ],
   "source": [
    "# Next Model - Logistic Regression model\n",
    "lr = LogisticRegression()\n",
    "lr.fit(X_train, y_train)"
   ]
  },
  {
   "cell_type": "code",
   "execution_count": 52,
   "id": "cc390df4",
   "metadata": {
    "execution": {
     "iopub.execute_input": "2021-10-12T08:26:16.223481Z",
     "iopub.status.busy": "2021-10-12T08:26:16.222861Z",
     "iopub.status.idle": "2021-10-12T08:26:16.229026Z",
     "shell.execute_reply": "2021-10-12T08:26:16.228414Z",
     "shell.execute_reply.started": "2021-10-12T08:24:40.699104Z"
    },
    "papermill": {
     "duration": 0.069069,
     "end_time": "2021-10-12T08:26:16.229170",
     "exception": false,
     "start_time": "2021-10-12T08:26:16.160101",
     "status": "completed"
    },
    "tags": []
   },
   "outputs": [
    {
     "data": {
      "text/plain": [
       "0.8379888268156425"
      ]
     },
     "execution_count": 52,
     "metadata": {},
     "output_type": "execute_result"
    }
   ],
   "source": [
    "# Checking the score on testing dataset\n",
    "lr.score(X_test, y_test)"
   ]
  },
  {
   "cell_type": "code",
   "execution_count": 53,
   "id": "f43c34ae",
   "metadata": {
    "execution": {
     "iopub.execute_input": "2021-10-12T08:26:16.354217Z",
     "iopub.status.busy": "2021-10-12T08:26:16.353642Z",
     "iopub.status.idle": "2021-10-12T08:26:16.358379Z",
     "shell.execute_reply": "2021-10-12T08:26:16.357872Z",
     "shell.execute_reply.started": "2021-10-12T08:24:40.710273Z"
    },
    "papermill": {
     "duration": 0.069209,
     "end_time": "2021-10-12T08:26:16.358514",
     "exception": false,
     "start_time": "2021-10-12T08:26:16.289305",
     "status": "completed"
    },
    "tags": []
   },
   "outputs": [
    {
     "data": {
      "text/plain": [
       "0.800561797752809"
      ]
     },
     "execution_count": 53,
     "metadata": {},
     "output_type": "execute_result"
    }
   ],
   "source": [
    "# Checking the score on training dataset\n",
    "lr.score(X_train, y_train)"
   ]
  },
  {
   "cell_type": "code",
   "execution_count": 54,
   "id": "3d303730",
   "metadata": {
    "execution": {
     "iopub.execute_input": "2021-10-12T08:26:16.486909Z",
     "iopub.status.busy": "2021-10-12T08:26:16.486019Z",
     "iopub.status.idle": "2021-10-12T08:26:16.490308Z",
     "shell.execute_reply": "2021-10-12T08:26:16.490782Z",
     "shell.execute_reply.started": "2021-10-12T08:24:40.725411Z"
    },
    "papermill": {
     "duration": 0.068305,
     "end_time": "2021-10-12T08:26:16.490952",
     "exception": false,
     "start_time": "2021-10-12T08:26:16.422647",
     "status": "completed"
    },
    "tags": []
   },
   "outputs": [],
   "source": [
    "# Predicting\n",
    "y_pred=dt.predict(X_test)"
   ]
  },
  {
   "cell_type": "code",
   "execution_count": 55,
   "id": "1de85cc8",
   "metadata": {
    "execution": {
     "iopub.execute_input": "2021-10-12T08:26:16.617553Z",
     "iopub.status.busy": "2021-10-12T08:26:16.616806Z",
     "iopub.status.idle": "2021-10-12T08:26:16.619807Z",
     "shell.execute_reply": "2021-10-12T08:26:16.620245Z",
     "shell.execute_reply.started": "2021-10-12T08:24:40.748263Z"
    },
    "papermill": {
     "duration": 0.069299,
     "end_time": "2021-10-12T08:26:16.620424",
     "exception": false,
     "start_time": "2021-10-12T08:26:16.551125",
     "status": "completed"
    },
    "tags": []
   },
   "outputs": [
    {
     "data": {
      "text/plain": [
       "array([1, 0, 0, 1, 0, 0, 1, 0, 0, 1, 1, 0, 0, 0, 0, 0, 0, 0, 0, 0, 0, 1,\n",
       "       1, 0, 1, 0, 0, 1, 1, 0, 0, 0, 0, 1, 0, 0, 0, 0, 1, 1, 0, 1, 1, 0,\n",
       "       0, 1, 0, 0, 0, 1, 1, 0, 1, 0, 1, 1, 0, 0, 0, 0, 1, 1, 1, 1, 0, 1,\n",
       "       1, 0, 0, 0, 1, 0, 0, 0, 0, 0, 1, 1, 1, 1, 1, 0, 1, 0, 0, 0, 0, 0,\n",
       "       1, 1, 0, 1, 1, 0, 1, 1, 0, 1, 0, 0, 0, 1, 1, 1, 0, 0, 0, 0, 1, 0,\n",
       "       0, 1, 1, 0, 0, 0, 1, 1, 0, 0, 0, 0, 1, 1, 0, 1, 1, 0, 0, 0, 1, 0,\n",
       "       1, 1, 0, 1, 0, 0, 1, 0, 0, 0, 1, 0, 0, 0, 0, 0, 0, 1, 0, 1, 0, 0,\n",
       "       1, 0, 0, 0, 0, 0, 0, 0, 0, 1, 1, 0, 1, 1, 0, 0, 1, 0, 1, 0, 1, 0,\n",
       "       0, 0, 0])"
      ]
     },
     "execution_count": 55,
     "metadata": {},
     "output_type": "execute_result"
    }
   ],
   "source": [
    "y_pred"
   ]
  },
  {
   "cell_type": "code",
   "execution_count": 56,
   "id": "fb1ca63e",
   "metadata": {
    "execution": {
     "iopub.execute_input": "2021-10-12T08:26:16.745065Z",
     "iopub.status.busy": "2021-10-12T08:26:16.744163Z",
     "iopub.status.idle": "2021-10-12T08:26:16.749546Z",
     "shell.execute_reply": "2021-10-12T08:26:16.750028Z",
     "shell.execute_reply.started": "2021-10-12T08:24:40.768956Z"
    },
    "papermill": {
     "duration": 0.06952,
     "end_time": "2021-10-12T08:26:16.750194",
     "exception": false,
     "start_time": "2021-10-12T08:26:16.680674",
     "status": "completed"
    },
    "tags": []
   },
   "outputs": [
    {
     "data": {
      "text/plain": [
       "array([1, 0, 0, 1, 0, 0, 0, 0, 1, 0, 0, 0, 0, 0, 0, 0, 0, 0, 0, 0, 0, 0,\n",
       "       1, 0, 1, 1, 0, 1, 1, 0, 0, 1, 1, 1, 0, 0, 0, 0, 0, 1, 0, 1, 1, 0,\n",
       "       0, 1, 0, 0, 0, 1, 1, 0, 0, 0, 1, 1, 0, 0, 1, 0, 0, 1, 1, 1, 0, 1,\n",
       "       1, 0, 0, 0, 1, 0, 0, 0, 0, 0, 1, 1, 0, 1, 1, 0, 1, 0, 1, 0, 1, 0,\n",
       "       1, 1, 1, 1, 1, 1, 1, 0, 0, 0, 0, 0, 0, 1, 1, 1, 0, 1, 0, 0, 1, 0,\n",
       "       1, 0, 1, 0, 0, 0, 1, 1, 0, 0, 1, 0, 0, 1, 0, 1, 1, 0, 1, 0, 0, 0,\n",
       "       1, 0, 0, 1, 0, 0, 1, 0, 0, 0, 1, 1, 0, 0, 0, 0, 0, 1, 1, 0, 1, 0,\n",
       "       1, 0, 1, 0, 0, 0, 0, 0, 0, 1, 0, 0, 1, 1, 0, 0, 1, 0, 1, 1, 0, 0,\n",
       "       0, 0, 0])"
      ]
     },
     "execution_count": 56,
     "metadata": {},
     "output_type": "execute_result"
    }
   ],
   "source": [
    "y_test"
   ]
  },
  {
   "cell_type": "code",
   "execution_count": 57,
   "id": "52881b00",
   "metadata": {
    "execution": {
     "iopub.execute_input": "2021-10-12T08:26:16.876570Z",
     "iopub.status.busy": "2021-10-12T08:26:16.875657Z",
     "iopub.status.idle": "2021-10-12T08:26:16.883141Z",
     "shell.execute_reply": "2021-10-12T08:26:16.882304Z",
     "shell.execute_reply.started": "2021-10-12T08:24:40.784838Z"
    },
    "papermill": {
     "duration": 0.071614,
     "end_time": "2021-10-12T08:26:16.883351",
     "exception": false,
     "start_time": "2021-10-12T08:26:16.811737",
     "status": "completed"
    },
    "tags": []
   },
   "outputs": [
    {
     "name": "stdout",
     "output_type": "stream",
     "text": [
      "Number of wrong prediction:  35\n",
      "Number of correct prediction:  144\n"
     ]
    }
   ],
   "source": [
    "# Checking how many of predictions are wrong\n",
    "wrong_prediction = 0\n",
    "for i in range(len(y_pred)):\n",
    "    if y_pred[i] != y_test[i]:\n",
    "        wrong_prediction += 1\n",
    "print(\"Number of wrong prediction: \", wrong_prediction)\n",
    "print(\"Number of correct prediction: \",len(y_pred)-wrong_prediction)\n"
   ]
  },
  {
   "cell_type": "code",
   "execution_count": 58,
   "id": "ea8c3602",
   "metadata": {
    "execution": {
     "iopub.execute_input": "2021-10-12T08:26:17.011603Z",
     "iopub.status.busy": "2021-10-12T08:26:17.010860Z",
     "iopub.status.idle": "2021-10-12T08:26:17.014541Z",
     "shell.execute_reply": "2021-10-12T08:26:17.015202Z",
     "shell.execute_reply.started": "2021-10-12T08:24:40.799172Z"
    },
    "papermill": {
     "duration": 0.070184,
     "end_time": "2021-10-12T08:26:17.015583",
     "exception": false,
     "start_time": "2021-10-12T08:26:16.945399",
     "status": "completed"
    },
    "tags": []
   },
   "outputs": [
    {
     "name": "stdout",
     "output_type": "stream",
     "text": [
      "[ 1.10051512 -0.4745452   0.76762988  0.5189714   1.          0.\n",
      "  0.          1.          0.          1.          0.          0.        ]\n"
     ]
    }
   ],
   "source": [
    "Sample = X_test[0]\n",
    "print(Sample)"
   ]
  },
  {
   "cell_type": "code",
   "execution_count": 59,
   "id": "d88b798d",
   "metadata": {
    "execution": {
     "iopub.execute_input": "2021-10-12T08:26:17.145352Z",
     "iopub.status.busy": "2021-10-12T08:26:17.144520Z",
     "iopub.status.idle": "2021-10-12T08:26:17.148192Z",
     "shell.execute_reply": "2021-10-12T08:26:17.148741Z",
     "shell.execute_reply.started": "2021-10-12T08:24:40.817822Z"
    },
    "papermill": {
     "duration": 0.07075,
     "end_time": "2021-10-12T08:26:17.148906",
     "exception": false,
     "start_time": "2021-10-12T08:26:17.078156",
     "status": "completed"
    },
    "tags": []
   },
   "outputs": [
    {
     "data": {
      "text/plain": [
       "array([1])"
      ]
     },
     "execution_count": 59,
     "metadata": {},
     "output_type": "execute_result"
    }
   ],
   "source": [
    "dt.predict([Sample])"
   ]
  },
  {
   "cell_type": "code",
   "execution_count": 60,
   "id": "757c15b4",
   "metadata": {
    "execution": {
     "iopub.execute_input": "2021-10-12T08:26:17.326896Z",
     "iopub.status.busy": "2021-10-12T08:26:17.326257Z",
     "iopub.status.idle": "2021-10-12T08:26:17.328574Z",
     "shell.execute_reply": "2021-10-12T08:26:17.328995Z",
     "shell.execute_reply.started": "2021-10-12T08:24:40.836627Z"
    },
    "papermill": {
     "duration": 0.069201,
     "end_time": "2021-10-12T08:26:17.329150",
     "exception": false,
     "start_time": "2021-10-12T08:26:17.259949",
     "status": "completed"
    },
    "tags": []
   },
   "outputs": [
    {
     "data": {
      "text/plain": [
       "1"
      ]
     },
     "execution_count": 60,
     "metadata": {},
     "output_type": "execute_result"
    }
   ],
   "source": [
    "y_test[0]"
   ]
  },
  {
   "cell_type": "code",
   "execution_count": 61,
   "id": "1485c654",
   "metadata": {
    "execution": {
     "iopub.execute_input": "2021-10-12T08:26:17.457876Z",
     "iopub.status.busy": "2021-10-12T08:26:17.455687Z",
     "iopub.status.idle": "2021-10-12T08:26:17.460699Z",
     "shell.execute_reply": "2021-10-12T08:26:17.460201Z",
     "shell.execute_reply.started": "2021-10-12T08:24:40.853297Z"
    },
    "papermill": {
     "duration": 0.069873,
     "end_time": "2021-10-12T08:26:17.460838",
     "exception": false,
     "start_time": "2021-10-12T08:26:17.390965",
     "status": "completed"
    },
    "tags": []
   },
   "outputs": [],
   "source": [
    "def prediction(sample):\n",
    "    res = dt.predict([sample])\n",
    "    return \"Survived\" if res == 1 else \"Not Survived\""
   ]
  },
  {
   "cell_type": "code",
   "execution_count": 62,
   "id": "7252f7e8",
   "metadata": {
    "execution": {
     "iopub.execute_input": "2021-10-12T08:26:17.589870Z",
     "iopub.status.busy": "2021-10-12T08:26:17.588917Z",
     "iopub.status.idle": "2021-10-12T08:26:17.593938Z",
     "shell.execute_reply": "2021-10-12T08:26:17.594362Z",
     "shell.execute_reply.started": "2021-10-12T08:24:40.866777Z"
    },
    "papermill": {
     "duration": 0.070647,
     "end_time": "2021-10-12T08:26:17.594546",
     "exception": false,
     "start_time": "2021-10-12T08:26:17.523899",
     "status": "completed"
    },
    "tags": []
   },
   "outputs": [
    {
     "data": {
      "text/plain": [
       "'Survived'"
      ]
     },
     "execution_count": 62,
     "metadata": {},
     "output_type": "execute_result"
    }
   ],
   "source": [
    "prediction(Sample)"
   ]
  },
  {
   "cell_type": "code",
   "execution_count": 63,
   "id": "22c36ca4",
   "metadata": {
    "execution": {
     "iopub.execute_input": "2021-10-12T08:26:17.723831Z",
     "iopub.status.busy": "2021-10-12T08:26:17.722870Z",
     "iopub.status.idle": "2021-10-12T08:26:17.728224Z",
     "shell.execute_reply": "2021-10-12T08:26:17.728663Z",
     "shell.execute_reply.started": "2021-10-12T08:24:40.885202Z"
    },
    "papermill": {
     "duration": 0.071764,
     "end_time": "2021-10-12T08:26:17.728832",
     "exception": false,
     "start_time": "2021-10-12T08:26:17.657068",
     "status": "completed"
    },
    "tags": []
   },
   "outputs": [
    {
     "data": {
      "text/plain": [
       "'Not Survived'"
      ]
     },
     "execution_count": 63,
     "metadata": {},
     "output_type": "execute_result"
    }
   ],
   "source": [
    "prediction(X_test[18])"
   ]
  },
  {
   "cell_type": "code",
   "execution_count": 64,
   "id": "1783413b",
   "metadata": {
    "execution": {
     "iopub.execute_input": "2021-10-12T08:26:17.863944Z",
     "iopub.status.busy": "2021-10-12T08:26:17.862922Z",
     "iopub.status.idle": "2021-10-12T08:26:17.867479Z",
     "shell.execute_reply": "2021-10-12T08:26:17.868003Z",
     "shell.execute_reply.started": "2021-10-12T08:24:40.902950Z"
    },
    "papermill": {
     "duration": 0.07337,
     "end_time": "2021-10-12T08:26:17.868174",
     "exception": false,
     "start_time": "2021-10-12T08:26:17.794804",
     "status": "completed"
    },
    "tags": []
   },
   "outputs": [],
   "source": [
    "# Next model - SVC classifier Model\n",
    "from sklearn.svm import SVC\n",
    "sc = SVC(gamma='auto')"
   ]
  },
  {
   "cell_type": "code",
   "execution_count": 65,
   "id": "c04b0280",
   "metadata": {
    "execution": {
     "iopub.execute_input": "2021-10-12T08:26:18.000237Z",
     "iopub.status.busy": "2021-10-12T08:26:17.999601Z",
     "iopub.status.idle": "2021-10-12T08:26:18.021368Z",
     "shell.execute_reply": "2021-10-12T08:26:18.021873Z",
     "shell.execute_reply.started": "2021-10-12T08:24:40.920052Z"
    },
    "papermill": {
     "duration": 0.090294,
     "end_time": "2021-10-12T08:26:18.022041",
     "exception": false,
     "start_time": "2021-10-12T08:26:17.931747",
     "status": "completed"
    },
    "tags": []
   },
   "outputs": [
    {
     "data": {
      "text/plain": [
       "SVC(gamma='auto')"
      ]
     },
     "execution_count": 65,
     "metadata": {},
     "output_type": "execute_result"
    }
   ],
   "source": [
    "sc.fit(X_train, y_train)"
   ]
  },
  {
   "cell_type": "code",
   "execution_count": 66,
   "id": "a4e66807",
   "metadata": {
    "execution": {
     "iopub.execute_input": "2021-10-12T08:26:18.151496Z",
     "iopub.status.busy": "2021-10-12T08:26:18.150838Z",
     "iopub.status.idle": "2021-10-12T08:26:18.158684Z",
     "shell.execute_reply": "2021-10-12T08:26:18.159108Z",
     "shell.execute_reply.started": "2021-10-12T08:24:40.955542Z"
    },
    "papermill": {
     "duration": 0.074117,
     "end_time": "2021-10-12T08:26:18.159298",
     "exception": false,
     "start_time": "2021-10-12T08:26:18.085181",
     "status": "completed"
    },
    "tags": []
   },
   "outputs": [
    {
     "data": {
      "text/plain": [
       "0.8547486033519553"
      ]
     },
     "execution_count": 66,
     "metadata": {},
     "output_type": "execute_result"
    }
   ],
   "source": [
    "# Checking the score on testing dataset\n",
    "sc.score(X_test,y_test)"
   ]
  },
  {
   "cell_type": "code",
   "execution_count": 67,
   "id": "40ebfb5b",
   "metadata": {
    "execution": {
     "iopub.execute_input": "2021-10-12T08:26:18.290683Z",
     "iopub.status.busy": "2021-10-12T08:26:18.289998Z",
     "iopub.status.idle": "2021-10-12T08:26:18.305632Z",
     "shell.execute_reply": "2021-10-12T08:26:18.305104Z",
     "shell.execute_reply.started": "2021-10-12T08:24:40.970225Z"
    },
    "papermill": {
     "duration": 0.082406,
     "end_time": "2021-10-12T08:26:18.305771",
     "exception": false,
     "start_time": "2021-10-12T08:26:18.223365",
     "status": "completed"
    },
    "tags": []
   },
   "outputs": [
    {
     "data": {
      "text/plain": [
       "0.827247191011236"
      ]
     },
     "execution_count": 67,
     "metadata": {},
     "output_type": "execute_result"
    }
   ],
   "source": [
    "# Checking the score on training dataset\n",
    "sc.score(X_train,y_train)"
   ]
  },
  {
   "cell_type": "code",
   "execution_count": 68,
   "id": "005eeadf",
   "metadata": {
    "execution": {
     "iopub.execute_input": "2021-10-12T08:26:18.442013Z",
     "iopub.status.busy": "2021-10-12T08:26:18.441363Z",
     "iopub.status.idle": "2021-10-12T08:26:18.446041Z",
     "shell.execute_reply": "2021-10-12T08:26:18.446522Z",
     "shell.execute_reply.started": "2021-10-12T08:24:40.991744Z"
    },
    "papermill": {
     "duration": 0.074405,
     "end_time": "2021-10-12T08:26:18.446705",
     "exception": false,
     "start_time": "2021-10-12T08:26:18.372300",
     "status": "completed"
    },
    "tags": []
   },
   "outputs": [],
   "source": [
    "# Predicting\n",
    "y_pred_sc = sc.predict(X_test)"
   ]
  },
  {
   "cell_type": "code",
   "execution_count": 69,
   "id": "19c89097",
   "metadata": {
    "execution": {
     "iopub.execute_input": "2021-10-12T08:26:18.580562Z",
     "iopub.status.busy": "2021-10-12T08:26:18.579946Z",
     "iopub.status.idle": "2021-10-12T08:26:18.582505Z",
     "shell.execute_reply": "2021-10-12T08:26:18.583170Z",
     "shell.execute_reply.started": "2021-10-12T08:24:41.000724Z"
    },
    "papermill": {
     "duration": 0.072408,
     "end_time": "2021-10-12T08:26:18.583399",
     "exception": false,
     "start_time": "2021-10-12T08:26:18.510991",
     "status": "completed"
    },
    "tags": []
   },
   "outputs": [
    {
     "name": "stdout",
     "output_type": "stream",
     "text": [
      "Number of wrong prediction:  26\n",
      "Number of correct prediction:  153\n"
     ]
    }
   ],
   "source": [
    "# Checking how many of predictions are wrong\n",
    "wrong_prediction = 0\n",
    "for i in range(len(y_pred)):\n",
    "    if y_pred_sc[i] != y_test[i]:\n",
    "        wrong_prediction += 1\n",
    "print(\"Number of wrong prediction: \", wrong_prediction)\n",
    "print(\"Number of correct prediction: \",len(y_pred)-wrong_prediction)"
   ]
  },
  {
   "cell_type": "code",
   "execution_count": 70,
   "id": "704b3c78",
   "metadata": {
    "execution": {
     "iopub.execute_input": "2021-10-12T08:26:18.715059Z",
     "iopub.status.busy": "2021-10-12T08:26:18.714476Z",
     "iopub.status.idle": "2021-10-12T08:26:18.741665Z",
     "shell.execute_reply": "2021-10-12T08:26:18.741095Z",
     "shell.execute_reply.started": "2021-10-12T08:24:41.016124Z"
    },
    "papermill": {
     "duration": 0.093386,
     "end_time": "2021-10-12T08:26:18.741807",
     "exception": false,
     "start_time": "2021-10-12T08:26:18.648421",
     "status": "completed"
    },
    "tags": []
   },
   "outputs": [],
   "source": [
    "# Next model - Random Forest Classifier Model\n",
    "from sklearn.ensemble import RandomForestClassifier\n",
    "rf = RandomForestClassifier(max_depth = 5, random_state=2021)"
   ]
  },
  {
   "cell_type": "code",
   "execution_count": 71,
   "id": "205d0b6a",
   "metadata": {
    "execution": {
     "iopub.execute_input": "2021-10-12T08:26:18.874907Z",
     "iopub.status.busy": "2021-10-12T08:26:18.874251Z",
     "iopub.status.idle": "2021-10-12T08:26:19.027083Z",
     "shell.execute_reply": "2021-10-12T08:26:19.027512Z",
     "shell.execute_reply.started": "2021-10-12T08:24:41.030774Z"
    },
    "papermill": {
     "duration": 0.220436,
     "end_time": "2021-10-12T08:26:19.027683",
     "exception": false,
     "start_time": "2021-10-12T08:26:18.807247",
     "status": "completed"
    },
    "tags": []
   },
   "outputs": [
    {
     "data": {
      "text/plain": [
       "RandomForestClassifier(max_depth=5, random_state=2021)"
      ]
     },
     "execution_count": 71,
     "metadata": {},
     "output_type": "execute_result"
    }
   ],
   "source": [
    "rf.fit(X_train, y_train)"
   ]
  },
  {
   "cell_type": "code",
   "execution_count": 72,
   "id": "d6112bcf",
   "metadata": {
    "execution": {
     "iopub.execute_input": "2021-10-12T08:26:19.160591Z",
     "iopub.status.busy": "2021-10-12T08:26:19.159957Z",
     "iopub.status.idle": "2021-10-12T08:26:19.174347Z",
     "shell.execute_reply": "2021-10-12T08:26:19.174832Z",
     "shell.execute_reply.started": "2021-10-12T08:24:41.264489Z"
    },
    "papermill": {
     "duration": 0.082025,
     "end_time": "2021-10-12T08:26:19.175014",
     "exception": false,
     "start_time": "2021-10-12T08:26:19.092989",
     "status": "completed"
    },
    "tags": []
   },
   "outputs": [
    {
     "data": {
      "text/plain": [
       "0.8435754189944135"
      ]
     },
     "execution_count": 72,
     "metadata": {},
     "output_type": "execute_result"
    }
   ],
   "source": [
    "# Checking the score on testing dataset\n",
    "rf.score(X_test,y_test)"
   ]
  },
  {
   "cell_type": "code",
   "execution_count": 73,
   "id": "5f55ca7f",
   "metadata": {
    "execution": {
     "iopub.execute_input": "2021-10-12T08:26:19.308357Z",
     "iopub.status.busy": "2021-10-12T08:26:19.307376Z",
     "iopub.status.idle": "2021-10-12T08:26:19.327157Z",
     "shell.execute_reply": "2021-10-12T08:26:19.327586Z",
     "shell.execute_reply.started": "2021-10-12T08:24:41.285133Z"
    },
    "papermill": {
     "duration": 0.088826,
     "end_time": "2021-10-12T08:26:19.327760",
     "exception": false,
     "start_time": "2021-10-12T08:26:19.238934",
     "status": "completed"
    },
    "tags": []
   },
   "outputs": [
    {
     "data": {
      "text/plain": [
       "0.848314606741573"
      ]
     },
     "execution_count": 73,
     "metadata": {},
     "output_type": "execute_result"
    }
   ],
   "source": [
    "# Checking the score on training dataset\n",
    "rf.score(X_train,y_train)"
   ]
  },
  {
   "cell_type": "code",
   "execution_count": 74,
   "id": "7f247a17",
   "metadata": {
    "execution": {
     "iopub.execute_input": "2021-10-12T08:26:19.491780Z",
     "iopub.status.busy": "2021-10-12T08:26:19.491159Z",
     "iopub.status.idle": "2021-10-12T08:26:19.504865Z",
     "shell.execute_reply": "2021-10-12T08:26:19.505392Z",
     "shell.execute_reply.started": "2021-10-12T08:24:41.312631Z"
    },
    "papermill": {
     "duration": 0.099078,
     "end_time": "2021-10-12T08:26:19.505578",
     "exception": false,
     "start_time": "2021-10-12T08:26:19.406500",
     "status": "completed"
    },
    "tags": []
   },
   "outputs": [],
   "source": [
    "# Predicting\n",
    "y_pred_rf = rf.predict(X_test)"
   ]
  },
  {
   "cell_type": "code",
   "execution_count": 75,
   "id": "2ee08a2a",
   "metadata": {
    "execution": {
     "iopub.execute_input": "2021-10-12T08:26:19.637198Z",
     "iopub.status.busy": "2021-10-12T08:26:19.636623Z",
     "iopub.status.idle": "2021-10-12T08:26:19.642085Z",
     "shell.execute_reply": "2021-10-12T08:26:19.642520Z",
     "shell.execute_reply.started": "2021-10-12T08:24:41.330758Z"
    },
    "papermill": {
     "duration": 0.072924,
     "end_time": "2021-10-12T08:26:19.642690",
     "exception": false,
     "start_time": "2021-10-12T08:26:19.569766",
     "status": "completed"
    },
    "tags": []
   },
   "outputs": [
    {
     "name": "stdout",
     "output_type": "stream",
     "text": [
      "Number of wrong prediction:  28\n",
      "Number of correct prediction:  151\n"
     ]
    }
   ],
   "source": [
    "# Checking how many of predictions are wrong\n",
    "wrong_prediction = 0\n",
    "for i in range(len(y_pred)):\n",
    "    if y_pred_rf[i] != y_test[i]:\n",
    "        wrong_prediction += 1\n",
    "print(\"Number of wrong prediction: \", wrong_prediction)\n",
    "print(\"Number of correct prediction: \",len(y_pred)-wrong_prediction)"
   ]
  }
 ],
 "metadata": {
  "kernelspec": {
   "display_name": "Python 3",
   "language": "python",
   "name": "python3"
  },
  "language_info": {
   "codemirror_mode": {
    "name": "ipython",
    "version": 3
   },
   "file_extension": ".py",
   "mimetype": "text/x-python",
   "name": "python",
   "nbconvert_exporter": "python",
   "pygments_lexer": "ipython3",
   "version": "3.7.10"
  },
  "papermill": {
   "default_parameters": {},
   "duration": 21.485399,
   "end_time": "2021-10-12T08:26:20.418543",
   "environment_variables": {},
   "exception": null,
   "input_path": "__notebook__.ipynb",
   "output_path": "__notebook__.ipynb",
   "parameters": {},
   "start_time": "2021-10-12T08:25:58.933144",
   "version": "2.3.3"
  }
 },
 "nbformat": 4,
 "nbformat_minor": 5
}
