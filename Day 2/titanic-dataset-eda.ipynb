{
 "cells": [
  {
   "cell_type": "markdown",
   "id": "e08644a1",
   "metadata": {
    "papermill": {
     "duration": 0.021912,
     "end_time": "2021-10-10T12:28:01.053257",
     "exception": false,
     "start_time": "2021-10-10T12:28:01.031345",
     "status": "completed"
    },
    "tags": []
   },
   "source": [
    "# ***EDA ON TITANIC DATASET***"
   ]
  },
  {
   "cell_type": "code",
   "execution_count": 1,
   "id": "344cf2da",
   "metadata": {
    "_cell_guid": "b1076dfc-b9ad-4769-8c92-a6c4dae69d19",
    "_uuid": "8f2839f25d086af736a60e9eeb907d3b93b6e0e5",
    "execution": {
     "iopub.execute_input": "2021-10-10T12:28:01.099370Z",
     "iopub.status.busy": "2021-10-10T12:28:01.098410Z",
     "iopub.status.idle": "2021-10-10T12:28:01.110551Z",
     "shell.execute_reply": "2021-10-10T12:28:01.111111Z",
     "shell.execute_reply.started": "2021-10-10T12:27:00.172825Z"
    },
    "papermill": {
     "duration": 0.035865,
     "end_time": "2021-10-10T12:28:01.111386",
     "exception": false,
     "start_time": "2021-10-10T12:28:01.075521",
     "status": "completed"
    },
    "tags": []
   },
   "outputs": [
    {
     "name": "stdout",
     "output_type": "stream",
     "text": [
      "/kaggle/input/titanic/train.csv\n",
      "/kaggle/input/titanic/test.csv\n",
      "/kaggle/input/titanic/gender_submission.csv\n"
     ]
    }
   ],
   "source": [
    "# This Python 3 environment comes with many helpful analytics libraries installed\n",
    "# It is defined by the kaggle/python Docker image: https://github.com/kaggle/docker-python\n",
    "# For example, here's several helpful packages to load\n",
    "\n",
    "import numpy as np # linear algebra\n",
    "import pandas as pd # data processing, CSV file I/O (e.g. pd.read_csv)\n",
    "\n",
    "# Input data files are available in the read-only \"../input/\" directory\n",
    "# For example, running this (by clicking run or pressing Shift+Enter) will list all files under the input directory\n",
    "\n",
    "import os\n",
    "for dirname, _, filenames in os.walk('/kaggle/input'):\n",
    "    for filename in filenames:\n",
    "        print(os.path.join(dirname, filename))\n",
    "\n",
    "# You can write up to 20GB to the current directory (/kaggle/working/) that gets preserved as output when you create a version using \"Save & Run All\" \n",
    "# You can also write temporary files to /kaggle/temp/, but they won't be saved outside of the current session"
   ]
  },
  {
   "cell_type": "code",
   "execution_count": 2,
   "id": "41a6d370",
   "metadata": {
    "execution": {
     "iopub.execute_input": "2021-10-10T12:28:01.159892Z",
     "iopub.status.busy": "2021-10-10T12:28:01.159213Z",
     "iopub.status.idle": "2021-10-10T12:28:02.036528Z",
     "shell.execute_reply": "2021-10-10T12:28:02.037295Z",
     "shell.execute_reply.started": "2021-10-10T12:27:00.186395Z"
    },
    "papermill": {
     "duration": 0.904254,
     "end_time": "2021-10-10T12:28:02.037532",
     "exception": false,
     "start_time": "2021-10-10T12:28:01.133278",
     "status": "completed"
    },
    "tags": []
   },
   "outputs": [],
   "source": [
    "import pandas as pd\n",
    "import matplotlib.pyplot as plt\n",
    "import seaborn as sns\n",
    "import numpy as np"
   ]
  },
  {
   "cell_type": "markdown",
   "id": "674f90b5",
   "metadata": {
    "papermill": {
     "duration": 0.021905,
     "end_time": "2021-10-10T12:28:02.081164",
     "exception": false,
     "start_time": "2021-10-10T12:28:02.059259",
     "status": "completed"
    },
    "tags": []
   },
   "source": [
    "**Exploraring the data**"
   ]
  },
  {
   "cell_type": "code",
   "execution_count": 3,
   "id": "37462424",
   "metadata": {
    "execution": {
     "iopub.execute_input": "2021-10-10T12:28:02.127599Z",
     "iopub.status.busy": "2021-10-10T12:28:02.127120Z",
     "iopub.status.idle": "2021-10-10T12:28:02.148991Z",
     "shell.execute_reply": "2021-10-10T12:28:02.148527Z",
     "shell.execute_reply.started": "2021-10-10T12:27:00.195090Z"
    },
    "papermill": {
     "duration": 0.046831,
     "end_time": "2021-10-10T12:28:02.149104",
     "exception": false,
     "start_time": "2021-10-10T12:28:02.102273",
     "status": "completed"
    },
    "tags": []
   },
   "outputs": [],
   "source": [
    "data = pd.read_csv('/kaggle/input/titanic/train.csv')"
   ]
  },
  {
   "cell_type": "code",
   "execution_count": 4,
   "id": "b1189d7f",
   "metadata": {
    "execution": {
     "iopub.execute_input": "2021-10-10T12:28:02.194804Z",
     "iopub.status.busy": "2021-10-10T12:28:02.194314Z",
     "iopub.status.idle": "2021-10-10T12:28:02.218976Z",
     "shell.execute_reply": "2021-10-10T12:28:02.218456Z",
     "shell.execute_reply.started": "2021-10-10T12:27:00.212733Z"
    },
    "papermill": {
     "duration": 0.048939,
     "end_time": "2021-10-10T12:28:02.219109",
     "exception": false,
     "start_time": "2021-10-10T12:28:02.170170",
     "status": "completed"
    },
    "tags": []
   },
   "outputs": [
    {
     "name": "stdout",
     "output_type": "stream",
     "text": [
      "<class 'pandas.core.frame.DataFrame'>\n",
      "RangeIndex: 891 entries, 0 to 890\n",
      "Data columns (total 12 columns):\n",
      " #   Column       Non-Null Count  Dtype  \n",
      "---  ------       --------------  -----  \n",
      " 0   PassengerId  891 non-null    int64  \n",
      " 1   Survived     891 non-null    int64  \n",
      " 2   Pclass       891 non-null    int64  \n",
      " 3   Name         891 non-null    object \n",
      " 4   Sex          891 non-null    object \n",
      " 5   Age          714 non-null    float64\n",
      " 6   SibSp        891 non-null    int64  \n",
      " 7   Parch        891 non-null    int64  \n",
      " 8   Ticket       891 non-null    object \n",
      " 9   Fare         891 non-null    float64\n",
      " 10  Cabin        204 non-null    object \n",
      " 11  Embarked     889 non-null    object \n",
      "dtypes: float64(2), int64(5), object(5)\n",
      "memory usage: 83.7+ KB\n"
     ]
    }
   ],
   "source": [
    "data.info()"
   ]
  },
  {
   "cell_type": "code",
   "execution_count": 5,
   "id": "e3d20b0b",
   "metadata": {
    "execution": {
     "iopub.execute_input": "2021-10-10T12:28:02.267374Z",
     "iopub.status.busy": "2021-10-10T12:28:02.266831Z",
     "iopub.status.idle": "2021-10-10T12:28:02.285659Z",
     "shell.execute_reply": "2021-10-10T12:28:02.286165Z",
     "shell.execute_reply.started": "2021-10-10T12:27:00.227187Z"
    },
    "papermill": {
     "duration": 0.045811,
     "end_time": "2021-10-10T12:28:02.286329",
     "exception": false,
     "start_time": "2021-10-10T12:28:02.240518",
     "status": "completed"
    },
    "tags": []
   },
   "outputs": [
    {
     "data": {
      "text/html": [
       "<div>\n",
       "<style scoped>\n",
       "    .dataframe tbody tr th:only-of-type {\n",
       "        vertical-align: middle;\n",
       "    }\n",
       "\n",
       "    .dataframe tbody tr th {\n",
       "        vertical-align: top;\n",
       "    }\n",
       "\n",
       "    .dataframe thead th {\n",
       "        text-align: right;\n",
       "    }\n",
       "</style>\n",
       "<table border=\"1\" class=\"dataframe\">\n",
       "  <thead>\n",
       "    <tr style=\"text-align: right;\">\n",
       "      <th></th>\n",
       "      <th>PassengerId</th>\n",
       "      <th>Survived</th>\n",
       "      <th>Pclass</th>\n",
       "      <th>Name</th>\n",
       "      <th>Sex</th>\n",
       "      <th>Age</th>\n",
       "      <th>SibSp</th>\n",
       "      <th>Parch</th>\n",
       "      <th>Ticket</th>\n",
       "      <th>Fare</th>\n",
       "      <th>Cabin</th>\n",
       "      <th>Embarked</th>\n",
       "    </tr>\n",
       "  </thead>\n",
       "  <tbody>\n",
       "    <tr>\n",
       "      <th>0</th>\n",
       "      <td>1</td>\n",
       "      <td>0</td>\n",
       "      <td>3</td>\n",
       "      <td>Braund, Mr. Owen Harris</td>\n",
       "      <td>male</td>\n",
       "      <td>22.0</td>\n",
       "      <td>1</td>\n",
       "      <td>0</td>\n",
       "      <td>A/5 21171</td>\n",
       "      <td>7.2500</td>\n",
       "      <td>NaN</td>\n",
       "      <td>S</td>\n",
       "    </tr>\n",
       "    <tr>\n",
       "      <th>1</th>\n",
       "      <td>2</td>\n",
       "      <td>1</td>\n",
       "      <td>1</td>\n",
       "      <td>Cumings, Mrs. John Bradley (Florence Briggs Th...</td>\n",
       "      <td>female</td>\n",
       "      <td>38.0</td>\n",
       "      <td>1</td>\n",
       "      <td>0</td>\n",
       "      <td>PC 17599</td>\n",
       "      <td>71.2833</td>\n",
       "      <td>C85</td>\n",
       "      <td>C</td>\n",
       "    </tr>\n",
       "    <tr>\n",
       "      <th>2</th>\n",
       "      <td>3</td>\n",
       "      <td>1</td>\n",
       "      <td>3</td>\n",
       "      <td>Heikkinen, Miss. Laina</td>\n",
       "      <td>female</td>\n",
       "      <td>26.0</td>\n",
       "      <td>0</td>\n",
       "      <td>0</td>\n",
       "      <td>STON/O2. 3101282</td>\n",
       "      <td>7.9250</td>\n",
       "      <td>NaN</td>\n",
       "      <td>S</td>\n",
       "    </tr>\n",
       "    <tr>\n",
       "      <th>3</th>\n",
       "      <td>4</td>\n",
       "      <td>1</td>\n",
       "      <td>1</td>\n",
       "      <td>Futrelle, Mrs. Jacques Heath (Lily May Peel)</td>\n",
       "      <td>female</td>\n",
       "      <td>35.0</td>\n",
       "      <td>1</td>\n",
       "      <td>0</td>\n",
       "      <td>113803</td>\n",
       "      <td>53.1000</td>\n",
       "      <td>C123</td>\n",
       "      <td>S</td>\n",
       "    </tr>\n",
       "    <tr>\n",
       "      <th>4</th>\n",
       "      <td>5</td>\n",
       "      <td>0</td>\n",
       "      <td>3</td>\n",
       "      <td>Allen, Mr. William Henry</td>\n",
       "      <td>male</td>\n",
       "      <td>35.0</td>\n",
       "      <td>0</td>\n",
       "      <td>0</td>\n",
       "      <td>373450</td>\n",
       "      <td>8.0500</td>\n",
       "      <td>NaN</td>\n",
       "      <td>S</td>\n",
       "    </tr>\n",
       "    <tr>\n",
       "      <th>5</th>\n",
       "      <td>6</td>\n",
       "      <td>0</td>\n",
       "      <td>3</td>\n",
       "      <td>Moran, Mr. James</td>\n",
       "      <td>male</td>\n",
       "      <td>NaN</td>\n",
       "      <td>0</td>\n",
       "      <td>0</td>\n",
       "      <td>330877</td>\n",
       "      <td>8.4583</td>\n",
       "      <td>NaN</td>\n",
       "      <td>Q</td>\n",
       "    </tr>\n",
       "    <tr>\n",
       "      <th>6</th>\n",
       "      <td>7</td>\n",
       "      <td>0</td>\n",
       "      <td>1</td>\n",
       "      <td>McCarthy, Mr. Timothy J</td>\n",
       "      <td>male</td>\n",
       "      <td>54.0</td>\n",
       "      <td>0</td>\n",
       "      <td>0</td>\n",
       "      <td>17463</td>\n",
       "      <td>51.8625</td>\n",
       "      <td>E46</td>\n",
       "      <td>S</td>\n",
       "    </tr>\n",
       "    <tr>\n",
       "      <th>7</th>\n",
       "      <td>8</td>\n",
       "      <td>0</td>\n",
       "      <td>3</td>\n",
       "      <td>Palsson, Master. Gosta Leonard</td>\n",
       "      <td>male</td>\n",
       "      <td>2.0</td>\n",
       "      <td>3</td>\n",
       "      <td>1</td>\n",
       "      <td>349909</td>\n",
       "      <td>21.0750</td>\n",
       "      <td>NaN</td>\n",
       "      <td>S</td>\n",
       "    </tr>\n",
       "    <tr>\n",
       "      <th>8</th>\n",
       "      <td>9</td>\n",
       "      <td>1</td>\n",
       "      <td>3</td>\n",
       "      <td>Johnson, Mrs. Oscar W (Elisabeth Vilhelmina Berg)</td>\n",
       "      <td>female</td>\n",
       "      <td>27.0</td>\n",
       "      <td>0</td>\n",
       "      <td>2</td>\n",
       "      <td>347742</td>\n",
       "      <td>11.1333</td>\n",
       "      <td>NaN</td>\n",
       "      <td>S</td>\n",
       "    </tr>\n",
       "    <tr>\n",
       "      <th>9</th>\n",
       "      <td>10</td>\n",
       "      <td>1</td>\n",
       "      <td>2</td>\n",
       "      <td>Nasser, Mrs. Nicholas (Adele Achem)</td>\n",
       "      <td>female</td>\n",
       "      <td>14.0</td>\n",
       "      <td>1</td>\n",
       "      <td>0</td>\n",
       "      <td>237736</td>\n",
       "      <td>30.0708</td>\n",
       "      <td>NaN</td>\n",
       "      <td>C</td>\n",
       "    </tr>\n",
       "  </tbody>\n",
       "</table>\n",
       "</div>"
      ],
      "text/plain": [
       "   PassengerId  Survived  Pclass  \\\n",
       "0            1         0       3   \n",
       "1            2         1       1   \n",
       "2            3         1       3   \n",
       "3            4         1       1   \n",
       "4            5         0       3   \n",
       "5            6         0       3   \n",
       "6            7         0       1   \n",
       "7            8         0       3   \n",
       "8            9         1       3   \n",
       "9           10         1       2   \n",
       "\n",
       "                                                Name     Sex   Age  SibSp  \\\n",
       "0                            Braund, Mr. Owen Harris    male  22.0      1   \n",
       "1  Cumings, Mrs. John Bradley (Florence Briggs Th...  female  38.0      1   \n",
       "2                             Heikkinen, Miss. Laina  female  26.0      0   \n",
       "3       Futrelle, Mrs. Jacques Heath (Lily May Peel)  female  35.0      1   \n",
       "4                           Allen, Mr. William Henry    male  35.0      0   \n",
       "5                                   Moran, Mr. James    male   NaN      0   \n",
       "6                            McCarthy, Mr. Timothy J    male  54.0      0   \n",
       "7                     Palsson, Master. Gosta Leonard    male   2.0      3   \n",
       "8  Johnson, Mrs. Oscar W (Elisabeth Vilhelmina Berg)  female  27.0      0   \n",
       "9                Nasser, Mrs. Nicholas (Adele Achem)  female  14.0      1   \n",
       "\n",
       "   Parch            Ticket     Fare Cabin Embarked  \n",
       "0      0         A/5 21171   7.2500   NaN        S  \n",
       "1      0          PC 17599  71.2833   C85        C  \n",
       "2      0  STON/O2. 3101282   7.9250   NaN        S  \n",
       "3      0            113803  53.1000  C123        S  \n",
       "4      0            373450   8.0500   NaN        S  \n",
       "5      0            330877   8.4583   NaN        Q  \n",
       "6      0             17463  51.8625   E46        S  \n",
       "7      1            349909  21.0750   NaN        S  \n",
       "8      2            347742  11.1333   NaN        S  \n",
       "9      0            237736  30.0708   NaN        C  "
      ]
     },
     "execution_count": 5,
     "metadata": {},
     "output_type": "execute_result"
    }
   ],
   "source": [
    "data.head(10)"
   ]
  },
  {
   "cell_type": "code",
   "execution_count": 6,
   "id": "d0fa115b",
   "metadata": {
    "execution": {
     "iopub.execute_input": "2021-10-10T12:28:02.339044Z",
     "iopub.status.busy": "2021-10-10T12:28:02.338281Z",
     "iopub.status.idle": "2021-10-10T12:28:02.352025Z",
     "shell.execute_reply": "2021-10-10T12:28:02.352422Z",
     "shell.execute_reply.started": "2021-10-10T12:27:00.247766Z"
    },
    "papermill": {
     "duration": 0.039701,
     "end_time": "2021-10-10T12:28:02.352571",
     "exception": false,
     "start_time": "2021-10-10T12:28:02.312870",
     "status": "completed"
    },
    "tags": []
   },
   "outputs": [
    {
     "data": {
      "text/html": [
       "<div>\n",
       "<style scoped>\n",
       "    .dataframe tbody tr th:only-of-type {\n",
       "        vertical-align: middle;\n",
       "    }\n",
       "\n",
       "    .dataframe tbody tr th {\n",
       "        vertical-align: top;\n",
       "    }\n",
       "\n",
       "    .dataframe thead th {\n",
       "        text-align: right;\n",
       "    }\n",
       "</style>\n",
       "<table border=\"1\" class=\"dataframe\">\n",
       "  <thead>\n",
       "    <tr style=\"text-align: right;\">\n",
       "      <th></th>\n",
       "      <th>PassengerId</th>\n",
       "      <th>Survived</th>\n",
       "      <th>Pclass</th>\n",
       "      <th>Name</th>\n",
       "      <th>Sex</th>\n",
       "      <th>Age</th>\n",
       "      <th>SibSp</th>\n",
       "      <th>Parch</th>\n",
       "      <th>Ticket</th>\n",
       "      <th>Fare</th>\n",
       "      <th>Cabin</th>\n",
       "      <th>Embarked</th>\n",
       "    </tr>\n",
       "  </thead>\n",
       "  <tbody>\n",
       "    <tr>\n",
       "      <th>881</th>\n",
       "      <td>882</td>\n",
       "      <td>0</td>\n",
       "      <td>3</td>\n",
       "      <td>Markun, Mr. Johann</td>\n",
       "      <td>male</td>\n",
       "      <td>33.0</td>\n",
       "      <td>0</td>\n",
       "      <td>0</td>\n",
       "      <td>349257</td>\n",
       "      <td>7.8958</td>\n",
       "      <td>NaN</td>\n",
       "      <td>S</td>\n",
       "    </tr>\n",
       "    <tr>\n",
       "      <th>882</th>\n",
       "      <td>883</td>\n",
       "      <td>0</td>\n",
       "      <td>3</td>\n",
       "      <td>Dahlberg, Miss. Gerda Ulrika</td>\n",
       "      <td>female</td>\n",
       "      <td>22.0</td>\n",
       "      <td>0</td>\n",
       "      <td>0</td>\n",
       "      <td>7552</td>\n",
       "      <td>10.5167</td>\n",
       "      <td>NaN</td>\n",
       "      <td>S</td>\n",
       "    </tr>\n",
       "    <tr>\n",
       "      <th>883</th>\n",
       "      <td>884</td>\n",
       "      <td>0</td>\n",
       "      <td>2</td>\n",
       "      <td>Banfield, Mr. Frederick James</td>\n",
       "      <td>male</td>\n",
       "      <td>28.0</td>\n",
       "      <td>0</td>\n",
       "      <td>0</td>\n",
       "      <td>C.A./SOTON 34068</td>\n",
       "      <td>10.5000</td>\n",
       "      <td>NaN</td>\n",
       "      <td>S</td>\n",
       "    </tr>\n",
       "    <tr>\n",
       "      <th>884</th>\n",
       "      <td>885</td>\n",
       "      <td>0</td>\n",
       "      <td>3</td>\n",
       "      <td>Sutehall, Mr. Henry Jr</td>\n",
       "      <td>male</td>\n",
       "      <td>25.0</td>\n",
       "      <td>0</td>\n",
       "      <td>0</td>\n",
       "      <td>SOTON/OQ 392076</td>\n",
       "      <td>7.0500</td>\n",
       "      <td>NaN</td>\n",
       "      <td>S</td>\n",
       "    </tr>\n",
       "    <tr>\n",
       "      <th>885</th>\n",
       "      <td>886</td>\n",
       "      <td>0</td>\n",
       "      <td>3</td>\n",
       "      <td>Rice, Mrs. William (Margaret Norton)</td>\n",
       "      <td>female</td>\n",
       "      <td>39.0</td>\n",
       "      <td>0</td>\n",
       "      <td>5</td>\n",
       "      <td>382652</td>\n",
       "      <td>29.1250</td>\n",
       "      <td>NaN</td>\n",
       "      <td>Q</td>\n",
       "    </tr>\n",
       "    <tr>\n",
       "      <th>886</th>\n",
       "      <td>887</td>\n",
       "      <td>0</td>\n",
       "      <td>2</td>\n",
       "      <td>Montvila, Rev. Juozas</td>\n",
       "      <td>male</td>\n",
       "      <td>27.0</td>\n",
       "      <td>0</td>\n",
       "      <td>0</td>\n",
       "      <td>211536</td>\n",
       "      <td>13.0000</td>\n",
       "      <td>NaN</td>\n",
       "      <td>S</td>\n",
       "    </tr>\n",
       "    <tr>\n",
       "      <th>887</th>\n",
       "      <td>888</td>\n",
       "      <td>1</td>\n",
       "      <td>1</td>\n",
       "      <td>Graham, Miss. Margaret Edith</td>\n",
       "      <td>female</td>\n",
       "      <td>19.0</td>\n",
       "      <td>0</td>\n",
       "      <td>0</td>\n",
       "      <td>112053</td>\n",
       "      <td>30.0000</td>\n",
       "      <td>B42</td>\n",
       "      <td>S</td>\n",
       "    </tr>\n",
       "    <tr>\n",
       "      <th>888</th>\n",
       "      <td>889</td>\n",
       "      <td>0</td>\n",
       "      <td>3</td>\n",
       "      <td>Johnston, Miss. Catherine Helen \"Carrie\"</td>\n",
       "      <td>female</td>\n",
       "      <td>NaN</td>\n",
       "      <td>1</td>\n",
       "      <td>2</td>\n",
       "      <td>W./C. 6607</td>\n",
       "      <td>23.4500</td>\n",
       "      <td>NaN</td>\n",
       "      <td>S</td>\n",
       "    </tr>\n",
       "    <tr>\n",
       "      <th>889</th>\n",
       "      <td>890</td>\n",
       "      <td>1</td>\n",
       "      <td>1</td>\n",
       "      <td>Behr, Mr. Karl Howell</td>\n",
       "      <td>male</td>\n",
       "      <td>26.0</td>\n",
       "      <td>0</td>\n",
       "      <td>0</td>\n",
       "      <td>111369</td>\n",
       "      <td>30.0000</td>\n",
       "      <td>C148</td>\n",
       "      <td>C</td>\n",
       "    </tr>\n",
       "    <tr>\n",
       "      <th>890</th>\n",
       "      <td>891</td>\n",
       "      <td>0</td>\n",
       "      <td>3</td>\n",
       "      <td>Dooley, Mr. Patrick</td>\n",
       "      <td>male</td>\n",
       "      <td>32.0</td>\n",
       "      <td>0</td>\n",
       "      <td>0</td>\n",
       "      <td>370376</td>\n",
       "      <td>7.7500</td>\n",
       "      <td>NaN</td>\n",
       "      <td>Q</td>\n",
       "    </tr>\n",
       "  </tbody>\n",
       "</table>\n",
       "</div>"
      ],
      "text/plain": [
       "     PassengerId  Survived  Pclass                                      Name  \\\n",
       "881          882         0       3                        Markun, Mr. Johann   \n",
       "882          883         0       3              Dahlberg, Miss. Gerda Ulrika   \n",
       "883          884         0       2             Banfield, Mr. Frederick James   \n",
       "884          885         0       3                    Sutehall, Mr. Henry Jr   \n",
       "885          886         0       3      Rice, Mrs. William (Margaret Norton)   \n",
       "886          887         0       2                     Montvila, Rev. Juozas   \n",
       "887          888         1       1              Graham, Miss. Margaret Edith   \n",
       "888          889         0       3  Johnston, Miss. Catherine Helen \"Carrie\"   \n",
       "889          890         1       1                     Behr, Mr. Karl Howell   \n",
       "890          891         0       3                       Dooley, Mr. Patrick   \n",
       "\n",
       "        Sex   Age  SibSp  Parch            Ticket     Fare Cabin Embarked  \n",
       "881    male  33.0      0      0            349257   7.8958   NaN        S  \n",
       "882  female  22.0      0      0              7552  10.5167   NaN        S  \n",
       "883    male  28.0      0      0  C.A./SOTON 34068  10.5000   NaN        S  \n",
       "884    male  25.0      0      0   SOTON/OQ 392076   7.0500   NaN        S  \n",
       "885  female  39.0      0      5            382652  29.1250   NaN        Q  \n",
       "886    male  27.0      0      0            211536  13.0000   NaN        S  \n",
       "887  female  19.0      0      0            112053  30.0000   B42        S  \n",
       "888  female   NaN      1      2        W./C. 6607  23.4500   NaN        S  \n",
       "889    male  26.0      0      0            111369  30.0000  C148        C  \n",
       "890    male  32.0      0      0            370376   7.7500   NaN        Q  "
      ]
     },
     "execution_count": 6,
     "metadata": {},
     "output_type": "execute_result"
    }
   ],
   "source": [
    "data.tail(10)"
   ]
  },
  {
   "cell_type": "code",
   "execution_count": 7,
   "id": "02974997",
   "metadata": {
    "execution": {
     "iopub.execute_input": "2021-10-10T12:28:02.421090Z",
     "iopub.status.busy": "2021-10-10T12:28:02.420466Z",
     "iopub.status.idle": "2021-10-10T12:28:02.430133Z",
     "shell.execute_reply": "2021-10-10T12:28:02.430617Z",
     "shell.execute_reply.started": "2021-10-10T12:27:00.267603Z"
    },
    "papermill": {
     "duration": 0.046324,
     "end_time": "2021-10-10T12:28:02.430815",
     "exception": false,
     "start_time": "2021-10-10T12:28:02.384491",
     "status": "completed"
    },
    "tags": []
   },
   "outputs": [
    {
     "data": {
      "text/html": [
       "<div>\n",
       "<style scoped>\n",
       "    .dataframe tbody tr th:only-of-type {\n",
       "        vertical-align: middle;\n",
       "    }\n",
       "\n",
       "    .dataframe tbody tr th {\n",
       "        vertical-align: top;\n",
       "    }\n",
       "\n",
       "    .dataframe thead th {\n",
       "        text-align: right;\n",
       "    }\n",
       "</style>\n",
       "<table border=\"1\" class=\"dataframe\">\n",
       "  <thead>\n",
       "    <tr style=\"text-align: right;\">\n",
       "      <th></th>\n",
       "      <th>0</th>\n",
       "    </tr>\n",
       "  </thead>\n",
       "  <tbody>\n",
       "    <tr>\n",
       "      <th>Cabin</th>\n",
       "      <td>77.104377</td>\n",
       "    </tr>\n",
       "    <tr>\n",
       "      <th>Age</th>\n",
       "      <td>19.865320</td>\n",
       "    </tr>\n",
       "    <tr>\n",
       "      <th>Embarked</th>\n",
       "      <td>0.224467</td>\n",
       "    </tr>\n",
       "    <tr>\n",
       "      <th>PassengerId</th>\n",
       "      <td>0.000000</td>\n",
       "    </tr>\n",
       "    <tr>\n",
       "      <th>Survived</th>\n",
       "      <td>0.000000</td>\n",
       "    </tr>\n",
       "    <tr>\n",
       "      <th>Pclass</th>\n",
       "      <td>0.000000</td>\n",
       "    </tr>\n",
       "    <tr>\n",
       "      <th>Name</th>\n",
       "      <td>0.000000</td>\n",
       "    </tr>\n",
       "    <tr>\n",
       "      <th>Sex</th>\n",
       "      <td>0.000000</td>\n",
       "    </tr>\n",
       "    <tr>\n",
       "      <th>SibSp</th>\n",
       "      <td>0.000000</td>\n",
       "    </tr>\n",
       "    <tr>\n",
       "      <th>Parch</th>\n",
       "      <td>0.000000</td>\n",
       "    </tr>\n",
       "    <tr>\n",
       "      <th>Ticket</th>\n",
       "      <td>0.000000</td>\n",
       "    </tr>\n",
       "    <tr>\n",
       "      <th>Fare</th>\n",
       "      <td>0.000000</td>\n",
       "    </tr>\n",
       "  </tbody>\n",
       "</table>\n",
       "</div>"
      ],
      "text/plain": [
       "                     0\n",
       "Cabin        77.104377\n",
       "Age          19.865320\n",
       "Embarked      0.224467\n",
       "PassengerId   0.000000\n",
       "Survived      0.000000\n",
       "Pclass        0.000000\n",
       "Name          0.000000\n",
       "Sex           0.000000\n",
       "SibSp         0.000000\n",
       "Parch         0.000000\n",
       "Ticket        0.000000\n",
       "Fare          0.000000"
      ]
     },
     "execution_count": 7,
     "metadata": {},
     "output_type": "execute_result"
    }
   ],
   "source": [
    "pd.DataFrame(data.isna().sum().sort_values(ascending=False)/len(data)*100)"
   ]
  },
  {
   "cell_type": "markdown",
   "id": "47ceb208",
   "metadata": {
    "papermill": {
     "duration": 0.034173,
     "end_time": "2021-10-10T12:28:02.499131",
     "exception": false,
     "start_time": "2021-10-10T12:28:02.464958",
     "status": "completed"
    },
    "tags": []
   },
   "source": [
    "\n",
    "\n",
    "***brief description of each column***\n",
    "\n",
    "    PassengerId -- passenger identifiation unique ID\n",
    "    Survived -- Survivor flag (0 = dead, 1 = survived)\n",
    "    Pclass -- ticket class:\n",
    "        1 = Upper Class\n",
    "        2 = Middle Class\n",
    "        3 = Lower Class\n",
    "    Name -- as is\n",
    "    Sex -- as is\n",
    "    Age -- as is\n",
    "    SibSp -- number of siblings/spouses on Titanic\n",
    "    Parch -- number of parents/children on Titanic\n",
    "    Ticket -- ticket number\n",
    "    Fare -- price\n",
    "    Cabin -- Cabin number\n",
    "    Embarked -- port of departure\n",
    "        S = Southampton\n",
    "        C = Cherbourg\n",
    "        Q = Queenstown\n",
    "\n"
   ]
  },
  {
   "cell_type": "code",
   "execution_count": 8,
   "id": "9de2d0ee",
   "metadata": {
    "execution": {
     "iopub.execute_input": "2021-10-10T12:28:02.572330Z",
     "iopub.status.busy": "2021-10-10T12:28:02.571668Z",
     "iopub.status.idle": "2021-10-10T12:28:02.773069Z",
     "shell.execute_reply": "2021-10-10T12:28:02.773636Z",
     "shell.execute_reply.started": "2021-10-10T12:27:00.284454Z"
    },
    "papermill": {
     "duration": 0.240397,
     "end_time": "2021-10-10T12:28:02.773793",
     "exception": false,
     "start_time": "2021-10-10T12:28:02.533396",
     "status": "completed"
    },
    "tags": []
   },
   "outputs": [
    {
     "data": {
      "text/plain": [
       "<function matplotlib.pyplot.show(close=None, block=None)>"
      ]
     },
     "execution_count": 8,
     "metadata": {},
     "output_type": "execute_result"
    },
    {
     "data": {
      "image/png": "[encoded data removed]",
      "text/plain": [
       "<Figure size 1152x576 with 1 Axes>"
      ]
     },
     "metadata": {
      "needs_background": "light"
     },
     "output_type": "display_data"
    }
   ],
   "source": [
    "# Number of people survived vs not servived\n",
    "plt.figure(figsize=(16,8))\n",
    "data[\"Survived\"].value_counts().plot.bar()\n",
    "plt.show"
   ]
  },
  {
   "cell_type": "code",
   "execution_count": 9,
   "id": "135917db",
   "metadata": {
    "execution": {
     "iopub.execute_input": "2021-10-10T12:28:02.827227Z",
     "iopub.status.busy": "2021-10-10T12:28:02.825835Z",
     "iopub.status.idle": "2021-10-10T12:28:02.830766Z",
     "shell.execute_reply": "2021-10-10T12:28:02.830297Z",
     "shell.execute_reply.started": "2021-10-10T12:27:00.493155Z"
    },
    "papermill": {
     "duration": 0.033615,
     "end_time": "2021-10-10T12:28:02.830882",
     "exception": false,
     "start_time": "2021-10-10T12:28:02.797267",
     "status": "completed"
    },
    "tags": []
   },
   "outputs": [],
   "source": [
    "non_survived_passenger = round(data[\"Survived\"].value_counts()[0]/len(data)*100,2)\n",
    "survived_passenger = round(data[\"Survived\"].value_counts()[1]/len(data)*100,2)"
   ]
  },
  {
   "cell_type": "code",
   "execution_count": 10,
   "id": "565a0ffd",
   "metadata": {
    "execution": {
     "iopub.execute_input": "2021-10-10T12:28:02.882026Z",
     "iopub.status.busy": "2021-10-10T12:28:02.881169Z",
     "iopub.status.idle": "2021-10-10T12:28:02.883886Z",
     "shell.execute_reply": "2021-10-10T12:28:02.884254Z",
     "shell.execute_reply.started": "2021-10-10T12:27:00.502007Z"
    },
    "papermill": {
     "duration": 0.030208,
     "end_time": "2021-10-10T12:28:02.884391",
     "exception": false,
     "start_time": "2021-10-10T12:28:02.854183",
     "status": "completed"
    },
    "tags": []
   },
   "outputs": [
    {
     "name": "stdout",
     "output_type": "stream",
     "text": [
      "Percentage of passengers survived: 38.38%\n",
      "Percentage of passengers who could not survived: 61.62%\n"
     ]
    }
   ],
   "source": [
    "print(f\"Percentage of passengers survived: {survived_passenger}%\")\n",
    "print(f\"Percentage of passengers who could not survived: {non_survived_passenger}%\")"
   ]
  },
  {
   "cell_type": "code",
   "execution_count": 11,
   "id": "9028afad",
   "metadata": {
    "execution": {
     "iopub.execute_input": "2021-10-10T12:28:02.936762Z",
     "iopub.status.busy": "2021-10-10T12:28:02.936094Z",
     "iopub.status.idle": "2021-10-10T12:28:02.939158Z",
     "shell.execute_reply": "2021-10-10T12:28:02.940093Z",
     "shell.execute_reply.started": "2021-10-10T12:27:00.512023Z"
    },
    "papermill": {
     "duration": 0.032582,
     "end_time": "2021-10-10T12:28:02.940425",
     "exception": false,
     "start_time": "2021-10-10T12:28:02.907843",
     "status": "completed"
    },
    "tags": []
   },
   "outputs": [
    {
     "name": "stdout",
     "output_type": "stream",
     "text": [
      "Maximum age is: 80.0\n",
      "Minimum age is: 0.42\n"
     ]
    }
   ],
   "source": [
    "#Maximum and Minimun age of the passengers\n",
    "print(f\"Maximum age is: {data['Age'].max()}\")\n",
    "print(f\"Minimum age is: {data['Age'].min()}\")"
   ]
  },
  {
   "cell_type": "code",
   "execution_count": 12,
   "id": "a9829858",
   "metadata": {
    "execution": {
     "iopub.execute_input": "2021-10-10T12:28:03.017973Z",
     "iopub.status.busy": "2021-10-10T12:28:03.017342Z",
     "iopub.status.idle": "2021-10-10T12:28:03.155778Z",
     "shell.execute_reply": "2021-10-10T12:28:03.156149Z",
     "shell.execute_reply.started": "2021-10-10T12:27:00.523083Z"
    },
    "papermill": {
     "duration": 0.177159,
     "end_time": "2021-10-10T12:28:03.156282",
     "exception": false,
     "start_time": "2021-10-10T12:28:02.979123",
     "status": "completed"
    },
    "tags": []
   },
   "outputs": [
    {
     "data": {
      "image/png": "[encoded data removed]",
      "text/plain": [
       "<Figure size 432x288 with 1 Axes>"
      ]
     },
     "metadata": {
      "needs_background": "light"
     },
     "output_type": "display_data"
    }
   ],
   "source": [
    "#Univariate Analysis\n",
    "data.plot(kind=\"scatter\",x=\"Age\",y=\"Survived\")\n",
    "plt.title(\"AGE VS SURVIVED\")\n",
    "plt.show()"
   ]
  },
  {
   "cell_type": "markdown",
   "id": "6a848045",
   "metadata": {
    "papermill": {
     "duration": 0.024022,
     "end_time": "2021-10-10T12:28:03.204497",
     "exception": false,
     "start_time": "2021-10-10T12:28:03.180475",
     "status": "completed"
    },
    "tags": []
   },
   "source": [
    "I did not see any correlations between Age and Survived columns"
   ]
  },
  {
   "cell_type": "code",
   "execution_count": 13,
   "id": "840f1eb7",
   "metadata": {
    "execution": {
     "iopub.execute_input": "2021-10-10T12:28:03.257691Z",
     "iopub.status.busy": "2021-10-10T12:28:03.256811Z",
     "iopub.status.idle": "2021-10-10T12:28:03.379154Z",
     "shell.execute_reply": "2021-10-10T12:28:03.379514Z",
     "shell.execute_reply.started": "2021-10-10T12:27:00.747537Z"
    },
    "papermill": {
     "duration": 0.151308,
     "end_time": "2021-10-10T12:28:03.379670",
     "exception": false,
     "start_time": "2021-10-10T12:28:03.228362",
     "status": "completed"
    },
    "tags": []
   },
   "outputs": [
    {
     "data": {
      "image/png": "[encoded data removed]",
      "text/plain": [
       "<Figure size 432x288 with 1 Axes>"
      ]
     },
     "metadata": {
      "needs_background": "light"
     },
     "output_type": "display_data"
    }
   ],
   "source": [
    "data.plot(kind=\"scatter\", x=\"Fare\", y=\"Survived\")\n",
    "plt.title(\"FARE VS SURVIVED\")\n",
    "plt.show()"
   ]
  },
  {
   "cell_type": "code",
   "execution_count": 14,
   "id": "1e21e618",
   "metadata": {
    "execution": {
     "iopub.execute_input": "2021-10-10T12:28:03.433874Z",
     "iopub.status.busy": "2021-10-10T12:28:03.433185Z",
     "iopub.status.idle": "2021-10-10T12:28:03.536124Z",
     "shell.execute_reply": "2021-10-10T12:28:03.536496Z",
     "shell.execute_reply.started": "2021-10-10T12:27:00.957955Z"
    },
    "papermill": {
     "duration": 0.130946,
     "end_time": "2021-10-10T12:28:03.536651",
     "exception": false,
     "start_time": "2021-10-10T12:28:03.405705",
     "status": "completed"
    },
    "tags": []
   },
   "outputs": [
    {
     "data": {
      "image/png": "[encoded data removed]",
      "text/plain": [
       "<Figure size 1152x576 with 1 Axes>"
      ]
     },
     "metadata": {},
     "output_type": "display_data"
    }
   ],
   "source": [
    "plt.figure(figsize=(16,8))\n",
    "plt.pie(data[\"SibSp\"].value_counts().values, autopct=\"%1.0f%%\", labels=[0,1,2,3,4,5,6])\n",
    "plt.show()"
   ]
  },
  {
   "cell_type": "code",
   "execution_count": 15,
   "id": "2c9ca64d",
   "metadata": {
    "execution": {
     "iopub.execute_input": "2021-10-10T12:28:03.594911Z",
     "iopub.status.busy": "2021-10-10T12:28:03.594416Z",
     "iopub.status.idle": "2021-10-10T12:28:03.718642Z",
     "shell.execute_reply": "2021-10-10T12:28:03.719154Z",
     "shell.execute_reply.started": "2021-10-10T12:27:01.095803Z"
    },
    "papermill": {
     "duration": 0.157062,
     "end_time": "2021-10-10T12:28:03.719320",
     "exception": false,
     "start_time": "2021-10-10T12:28:03.562258",
     "status": "completed"
    },
    "tags": []
   },
   "outputs": [
    {
     "data": {
      "text/plain": [
       "<AxesSubplot:>"
      ]
     },
     "execution_count": 15,
     "metadata": {},
     "output_type": "execute_result"
    },
    {
     "data": {
      "image/png": "[encoded data removed]",
      "text/plain": [
       "<Figure size 432x288 with 1 Axes>"
      ]
     },
     "metadata": {
      "needs_background": "light"
     },
     "output_type": "display_data"
    }
   ],
   "source": [
    "data['Parch'].value_counts().plot.bar()"
   ]
  },
  {
   "cell_type": "code",
   "execution_count": 16,
   "id": "3387aeb0",
   "metadata": {
    "execution": {
     "iopub.execute_input": "2021-10-10T12:28:03.800546Z",
     "iopub.status.busy": "2021-10-10T12:28:03.778796Z",
     "iopub.status.idle": "2021-10-10T12:28:04.210287Z",
     "shell.execute_reply": "2021-10-10T12:28:04.209837Z",
     "shell.execute_reply.started": "2021-10-10T12:27:01.317185Z"
    },
    "papermill": {
     "duration": 0.460852,
     "end_time": "2021-10-10T12:28:04.210404",
     "exception": false,
     "start_time": "2021-10-10T12:28:03.749552",
     "status": "completed"
    },
    "tags": []
   },
   "outputs": [
    {
     "data": {
      "image/png": "[encoded data removed]",
      "text/plain": [
       "<Figure size 1152x576 with 1 Axes>"
      ]
     },
     "metadata": {
      "needs_background": "light"
     },
     "output_type": "display_data"
    }
   ],
   "source": [
    "plt.figure(figsize=(16,8))\n",
    "sns.histplot(data['Fare'])\n",
    "plt.show()"
   ]
  },
  {
   "cell_type": "code",
   "execution_count": 17,
   "id": "cefba29e",
   "metadata": {
    "execution": {
     "iopub.execute_input": "2021-10-10T12:28:04.286229Z",
     "iopub.status.busy": "2021-10-10T12:28:04.271916Z",
     "iopub.status.idle": "2021-10-10T12:28:04.418277Z",
     "shell.execute_reply": "2021-10-10T12:28:04.418773Z",
     "shell.execute_reply.started": "2021-10-10T12:27:01.746607Z"
    },
    "papermill": {
     "duration": 0.179706,
     "end_time": "2021-10-10T12:28:04.418937",
     "exception": false,
     "start_time": "2021-10-10T12:28:04.239231",
     "status": "completed"
    },
    "tags": []
   },
   "outputs": [
    {
     "data": {
      "image/png": "[encoded data removed]",
      "text/plain": [
       "<Figure size 1152x576 with 1 Axes>"
      ]
     },
     "metadata": {
      "needs_background": "light"
     },
     "output_type": "display_data"
    }
   ],
   "source": [
    "plt.figure(figsize=(16,8))\n",
    "data[\"Sex\"].value_counts().plot.bar()\n",
    "plt.show()"
   ]
  },
  {
   "cell_type": "code",
   "execution_count": 18,
   "id": "f1c14a83",
   "metadata": {
    "execution": {
     "iopub.execute_input": "2021-10-10T12:28:04.508712Z",
     "iopub.status.busy": "2021-10-10T12:28:04.508034Z",
     "iopub.status.idle": "2021-10-10T12:28:04.629445Z",
     "shell.execute_reply": "2021-10-10T12:28:04.630101Z",
     "shell.execute_reply.started": "2021-10-10T12:27:01.947558Z"
    },
    "papermill": {
     "duration": 0.169759,
     "end_time": "2021-10-10T12:28:04.630284",
     "exception": false,
     "start_time": "2021-10-10T12:28:04.460525",
     "status": "completed"
    },
    "tags": []
   },
   "outputs": [
    {
     "data": {
      "image/png": "[encoded data removed]",
      "text/plain": [
       "<Figure size 432x288 with 1 Axes>"
      ]
     },
     "metadata": {
      "needs_background": "light"
     },
     "output_type": "display_data"
    }
   ],
   "source": [
    "sns.countplot(x='Survived', data=data);"
   ]
  },
  {
   "cell_type": "code",
   "execution_count": 19,
   "id": "f183f17c",
   "metadata": {
    "execution": {
     "iopub.execute_input": "2021-10-10T12:28:04.722308Z",
     "iopub.status.busy": "2021-10-10T12:28:04.717493Z",
     "iopub.status.idle": "2021-10-10T12:28:05.038334Z",
     "shell.execute_reply": "2021-10-10T12:28:05.038757Z",
     "shell.execute_reply.started": "2021-10-10T12:27:02.124735Z"
    },
    "papermill": {
     "duration": 0.365056,
     "end_time": "2021-10-10T12:28:05.038919",
     "exception": false,
     "start_time": "2021-10-10T12:28:04.673863",
     "status": "completed"
    },
    "tags": []
   },
   "outputs": [
    {
     "data": {
      "text/plain": [
       "<seaborn.axisgrid.FacetGrid at 0x7f294bc93c90>"
      ]
     },
     "execution_count": 19,
     "metadata": {},
     "output_type": "execute_result"
    },
    {
     "data": {
      "image/png": "[encoded data removed]",
      "text/plain": [
       "<Figure size 720x360 with 2 Axes>"
      ]
     },
     "metadata": {
      "needs_background": "light"
     },
     "output_type": "display_data"
    }
   ],
   "source": [
    "sns.catplot(x='Sex', col='Survived', kind='count', data=data)"
   ]
  },
  {
   "cell_type": "code",
   "execution_count": 20,
   "id": "f21ab56e",
   "metadata": {
    "execution": {
     "iopub.execute_input": "2021-10-10T12:28:05.106972Z",
     "iopub.status.busy": "2021-10-10T12:28:05.105110Z",
     "iopub.status.idle": "2021-10-10T12:28:05.114076Z",
     "shell.execute_reply": "2021-10-10T12:28:05.112818Z",
     "shell.execute_reply.started": "2021-10-10T12:27:02.511391Z"
    },
    "papermill": {
     "duration": 0.045241,
     "end_time": "2021-10-10T12:28:05.114331",
     "exception": false,
     "start_time": "2021-10-10T12:28:05.069090",
     "status": "completed"
    },
    "tags": []
   },
   "outputs": [
    {
     "name": "stdout",
     "output_type": "stream",
     "text": [
      "% of women survived:  74.20382165605095\n",
      "% of men survived:    18.890814558058924\n"
     ]
    }
   ],
   "source": [
    "print(\"% of women survived: \" , data[data.Sex == 'female'].Survived.sum()/data[data.Sex == 'female'].Survived.count()*100)\n",
    "print(\"% of men survived:   \" , data[data.Sex == 'male'].Survived.sum()/data[data.Sex == 'male'].Survived.count()*100)"
   ]
  },
  {
   "cell_type": "code",
   "execution_count": 21,
   "id": "e048cf1b",
   "metadata": {
    "execution": {
     "iopub.execute_input": "2021-10-10T12:28:05.274255Z",
     "iopub.status.busy": "2021-10-10T12:28:05.263252Z",
     "iopub.status.idle": "2021-10-10T12:28:05.435188Z",
     "shell.execute_reply": "2021-10-10T12:28:05.434624Z",
     "shell.execute_reply.started": "2021-10-10T12:27:02.525709Z"
    },
    "papermill": {
     "duration": 0.275934,
     "end_time": "2021-10-10T12:28:05.435318",
     "exception": false,
     "start_time": "2021-10-10T12:28:05.159384",
     "status": "completed"
    },
    "tags": []
   },
   "outputs": [
    {
     "data": {
      "image/png": "[encoded data removed]",
      "text/plain": [
       "<Figure size 1152x504 with 2 Axes>"
      ]
     },
     "metadata": {},
     "output_type": "display_data"
    }
   ],
   "source": [
    "f,ax=plt.subplots(1,2,figsize=(16,7))\n",
    "data['Survived'][data['Sex']=='male'].value_counts().plot.pie(explode=[0,0.2],autopct='%1.1f%%',ax=ax[0],shadow=True)\n",
    "data['Survived'][data['Sex']=='female'].value_counts().plot.pie(explode=[0,0.2],autopct='%1.1f%%',ax=ax[1],shadow=True)\n",
    "ax[0].set_title('Survived (male)')\n",
    "ax[1].set_title('Survived (female)')\n",
    "\n",
    "plt.show()"
   ]
  },
  {
   "cell_type": "code",
   "execution_count": 22,
   "id": "9b57e993",
   "metadata": {
    "execution": {
     "iopub.execute_input": "2021-10-10T12:28:05.535116Z",
     "iopub.status.busy": "2021-10-10T12:28:05.534358Z",
     "iopub.status.idle": "2021-10-10T12:28:05.541213Z",
     "shell.execute_reply": "2021-10-10T12:28:05.540809Z",
     "shell.execute_reply.started": "2021-10-10T12:27:02.778300Z"
    },
    "papermill": {
     "duration": 0.059934,
     "end_time": "2021-10-10T12:28:05.541321",
     "exception": false,
     "start_time": "2021-10-10T12:28:05.481387",
     "status": "completed"
    },
    "tags": []
   },
   "outputs": [
    {
     "name": "stdout",
     "output_type": "stream",
     "text": [
      "% of survivals in\n",
      "Pclass=1 :  62.96296296296296\n",
      "Pclass=2 :  47.28260869565217\n",
      "Pclass=3 :  24.236252545824847\n"
     ]
    }
   ],
   "source": [
    "print(\"% of survivals in\") \n",
    "print(\"Pclass=1 : \", data.Survived[data.Pclass == 1].sum()/data[data.Pclass == 1].Survived.count()*100)\n",
    "print(\"Pclass=2 : \", data.Survived[data.Pclass == 2].sum()/data[data.Pclass == 2].Survived.count()*100)\n",
    "print(\"Pclass=3 : \", data.Survived[data.Pclass == 3].sum()/data[data.Pclass == 3].Survived.count()*100)"
   ]
  },
  {
   "cell_type": "code",
   "execution_count": 23,
   "id": "5b19bafe",
   "metadata": {
    "execution": {
     "iopub.execute_input": "2021-10-10T12:28:05.607970Z",
     "iopub.status.busy": "2021-10-10T12:28:05.607364Z",
     "iopub.status.idle": "2021-10-10T12:28:05.899385Z",
     "shell.execute_reply": "2021-10-10T12:28:05.899933Z",
     "shell.execute_reply.started": "2021-10-10T12:27:02.796996Z"
    },
    "papermill": {
     "duration": 0.328227,
     "end_time": "2021-10-10T12:28:05.900097",
     "exception": false,
     "start_time": "2021-10-10T12:28:05.571870",
     "status": "completed"
    },
    "tags": []
   },
   "outputs": [
    {
     "name": "stderr",
     "output_type": "stream",
     "text": [
      "/opt/conda/lib/python3.7/site-packages/seaborn/_decorators.py:43: FutureWarning: Pass the following variables as keyword args: x, y. From version 0.12, the only valid positional argument will be `data`, and passing other arguments without an explicit keyword will result in an error or misinterpretation.\n",
      "  FutureWarning\n"
     ]
    },
    {
     "data": {
      "text/plain": [
       "<seaborn.axisgrid.FacetGrid at 0x7f294bc4a2d0>"
      ]
     },
     "execution_count": 23,
     "metadata": {},
     "output_type": "execute_result"
    },
    {
     "data": {
      "image/png": "[encoded data removed]",
      "text/plain": [
       "<Figure size 360x360 with 1 Axes>"
      ]
     },
     "metadata": {
      "needs_background": "light"
     },
     "output_type": "display_data"
    }
   ],
   "source": [
    "sns.catplot('Pclass','Survived', kind='point', data=data)"
   ]
  },
  {
   "cell_type": "code",
   "execution_count": 24,
   "id": "7fcca737",
   "metadata": {
    "execution": {
     "iopub.execute_input": "2021-10-10T12:28:06.002939Z",
     "iopub.status.busy": "2021-10-10T12:28:06.002408Z",
     "iopub.status.idle": "2021-10-10T12:28:06.101084Z",
     "shell.execute_reply": "2021-10-10T12:28:06.100646Z",
     "shell.execute_reply.started": "2021-10-10T12:27:03.172209Z"
    },
    "papermill": {
     "duration": 0.15354,
     "end_time": "2021-10-10T12:28:06.101193",
     "exception": false,
     "start_time": "2021-10-10T12:28:05.947653",
     "status": "completed"
    },
    "tags": []
   },
   "outputs": [
    {
     "data": {
      "text/html": [
       "<style type=\"text/css\">\n",
       "#T_6aed1_row0_col0, #T_6aed1_row0_col1, #T_6aed1_row0_col3, #T_6aed1_row3_col2 {\n",
       "  background-color: #ffff00;\n",
       "  color: #000000;\n",
       "}\n",
       "#T_6aed1_row0_col2, #T_6aed1_row1_col2 {\n",
       "  background-color: #fff100;\n",
       "  color: #000000;\n",
       "}\n",
       "#T_6aed1_row1_col0 {\n",
       "  background-color: #ff9600;\n",
       "  color: #000000;\n",
       "}\n",
       "#T_6aed1_row1_col1 {\n",
       "  background-color: #ffa300;\n",
       "  color: #000000;\n",
       "}\n",
       "#T_6aed1_row1_col3 {\n",
       "  background-color: #ffcf00;\n",
       "  color: #000000;\n",
       "}\n",
       "#T_6aed1_row2_col0 {\n",
       "  background-color: #ffa700;\n",
       "  color: #000000;\n",
       "}\n",
       "#T_6aed1_row2_col1, #T_6aed1_row2_col3 {\n",
       "  background-color: #ff8500;\n",
       "  color: #f1f1f1;\n",
       "}\n",
       "#T_6aed1_row2_col2 {\n",
       "  background-color: #ff6e00;\n",
       "  color: #f1f1f1;\n",
       "}\n",
       "#T_6aed1_row3_col0 {\n",
       "  background-color: #ffcd00;\n",
       "  color: #000000;\n",
       "}\n",
       "#T_6aed1_row3_col1 {\n",
       "  background-color: #fff000;\n",
       "  color: #000000;\n",
       "}\n",
       "#T_6aed1_row3_col3 {\n",
       "  background-color: #fff700;\n",
       "  color: #000000;\n",
       "}\n",
       "#T_6aed1_row4_col0, #T_6aed1_row4_col1, #T_6aed1_row4_col2, #T_6aed1_row4_col3 {\n",
       "  background-color: #ff0000;\n",
       "  color: #f1f1f1;\n",
       "}\n",
       "</style>\n",
       "<table id=\"T_6aed1_\">\n",
       "  <thead>\n",
       "    <tr>\n",
       "      <th class=\"blank\" >&nbsp;</th>\n",
       "      <th class=\"index_name level0\" >Pclass</th>\n",
       "      <th class=\"col_heading level0 col0\" >1</th>\n",
       "      <th class=\"col_heading level0 col1\" >2</th>\n",
       "      <th class=\"col_heading level0 col2\" >3</th>\n",
       "      <th class=\"col_heading level0 col3\" >All</th>\n",
       "    </tr>\n",
       "    <tr>\n",
       "      <th class=\"index_name level0\" >Sex</th>\n",
       "      <th class=\"index_name level1\" >Survived</th>\n",
       "      <th class=\"blank col0\" >&nbsp;</th>\n",
       "      <th class=\"blank col1\" >&nbsp;</th>\n",
       "      <th class=\"blank col2\" >&nbsp;</th>\n",
       "      <th class=\"blank col3\" >&nbsp;</th>\n",
       "    </tr>\n",
       "  </thead>\n",
       "  <tbody>\n",
       "    <tr>\n",
       "      <th id=\"T_6aed1_level0_row0\" class=\"row_heading level0 row0\" rowspan=\"2\">female</th>\n",
       "      <th id=\"T_6aed1_level1_row0\" class=\"row_heading level1 row0\" >0</th>\n",
       "      <td id=\"T_6aed1_row0_col0\" class=\"data row0 col0\" >3</td>\n",
       "      <td id=\"T_6aed1_row0_col1\" class=\"data row0 col1\" >6</td>\n",
       "      <td id=\"T_6aed1_row0_col2\" class=\"data row0 col2\" >72</td>\n",
       "      <td id=\"T_6aed1_row0_col3\" class=\"data row0 col3\" >81</td>\n",
       "    </tr>\n",
       "    <tr>\n",
       "      <th id=\"T_6aed1_level1_row1\" class=\"row_heading level1 row1\" >1</th>\n",
       "      <td id=\"T_6aed1_row1_col0\" class=\"data row1 col0\" >91</td>\n",
       "      <td id=\"T_6aed1_row1_col1\" class=\"data row1 col1\" >70</td>\n",
       "      <td id=\"T_6aed1_row1_col2\" class=\"data row1 col2\" >72</td>\n",
       "      <td id=\"T_6aed1_row1_col3\" class=\"data row1 col3\" >233</td>\n",
       "    </tr>\n",
       "    <tr>\n",
       "      <th id=\"T_6aed1_level0_row2\" class=\"row_heading level0 row2\" rowspan=\"2\">male</th>\n",
       "      <th id=\"T_6aed1_level1_row2\" class=\"row_heading level1 row2\" >0</th>\n",
       "      <td id=\"T_6aed1_row2_col0\" class=\"data row2 col0\" >77</td>\n",
       "      <td id=\"T_6aed1_row2_col1\" class=\"data row2 col1\" >91</td>\n",
       "      <td id=\"T_6aed1_row2_col2\" class=\"data row2 col2\" >300</td>\n",
       "      <td id=\"T_6aed1_row2_col3\" class=\"data row2 col3\" >468</td>\n",
       "    </tr>\n",
       "    <tr>\n",
       "      <th id=\"T_6aed1_level1_row3\" class=\"row_heading level1 row3\" >1</th>\n",
       "      <td id=\"T_6aed1_row3_col0\" class=\"data row3 col0\" >45</td>\n",
       "      <td id=\"T_6aed1_row3_col1\" class=\"data row3 col1\" >17</td>\n",
       "      <td id=\"T_6aed1_row3_col2\" class=\"data row3 col2\" >47</td>\n",
       "      <td id=\"T_6aed1_row3_col3\" class=\"data row3 col3\" >109</td>\n",
       "    </tr>\n",
       "    <tr>\n",
       "      <th id=\"T_6aed1_level0_row4\" class=\"row_heading level0 row4\" >All</th>\n",
       "      <th id=\"T_6aed1_level1_row4\" class=\"row_heading level1 row4\" ></th>\n",
       "      <td id=\"T_6aed1_row4_col0\" class=\"data row4 col0\" >216</td>\n",
       "      <td id=\"T_6aed1_row4_col1\" class=\"data row4 col1\" >184</td>\n",
       "      <td id=\"T_6aed1_row4_col2\" class=\"data row4 col2\" >491</td>\n",
       "      <td id=\"T_6aed1_row4_col3\" class=\"data row4 col3\" >891</td>\n",
       "    </tr>\n",
       "  </tbody>\n",
       "</table>\n"
      ],
      "text/plain": [
       "<pandas.io.formats.style.Styler at 0x7f294bc64750>"
      ]
     },
     "execution_count": 24,
     "metadata": {},
     "output_type": "execute_result"
    }
   ],
   "source": [
    "pd.crosstab([data.Sex, data.Survived], data.Pclass, margins=True).style.background_gradient(cmap='autumn_r')"
   ]
  },
  {
   "cell_type": "code",
   "execution_count": 25,
   "id": "33f55b70",
   "metadata": {
    "execution": {
     "iopub.execute_input": "2021-10-10T12:28:06.174903Z",
     "iopub.status.busy": "2021-10-10T12:28:06.174148Z",
     "iopub.status.idle": "2021-10-10T12:28:06.646669Z",
     "shell.execute_reply": "2021-10-10T12:28:06.647054Z",
     "shell.execute_reply.started": "2021-10-10T12:27:03.233848Z"
    },
    "papermill": {
     "duration": 0.512288,
     "end_time": "2021-10-10T12:28:06.647187",
     "exception": false,
     "start_time": "2021-10-10T12:28:06.134899",
     "status": "completed"
    },
    "tags": []
   },
   "outputs": [
    {
     "name": "stderr",
     "output_type": "stream",
     "text": [
      "/opt/conda/lib/python3.7/site-packages/seaborn/_decorators.py:43: FutureWarning: Pass the following variables as keyword args: x, y. From version 0.12, the only valid positional argument will be `data`, and passing other arguments without an explicit keyword will result in an error or misinterpretation.\n",
      "  FutureWarning\n"
     ]
    },
    {
     "data": {
      "text/plain": [
       "<seaborn.axisgrid.FacetGrid at 0x7f294b920f50>"
      ]
     },
     "execution_count": 25,
     "metadata": {},
     "output_type": "execute_result"
    },
    {
     "data": {
      "image/png": "[encoded data removed]",
      "text/plain": [
       "<Figure size 430.5x360 with 1 Axes>"
      ]
     },
     "metadata": {
      "needs_background": "light"
     },
     "output_type": "display_data"
    }
   ],
   "source": [
    "sns.catplot('Pclass','Survived',hue='Sex', kind='point', data=data)"
   ]
  },
  {
   "cell_type": "code",
   "execution_count": 26,
   "id": "68437b14",
   "metadata": {
    "execution": {
     "iopub.execute_input": "2021-10-10T12:28:06.735405Z",
     "iopub.status.busy": "2021-10-10T12:28:06.724257Z",
     "iopub.status.idle": "2021-10-10T12:28:07.214829Z",
     "shell.execute_reply": "2021-10-10T12:28:07.214291Z",
     "shell.execute_reply.started": "2021-10-10T12:27:03.850610Z"
    },
    "papermill": {
     "duration": 0.533373,
     "end_time": "2021-10-10T12:28:07.214954",
     "exception": false,
     "start_time": "2021-10-10T12:28:06.681581",
     "status": "completed"
    },
    "tags": []
   },
   "outputs": [
    {
     "data": {
      "text/plain": [
       "<seaborn.axisgrid.FacetGrid at 0x7f294bc5dc90>"
      ]
     },
     "execution_count": 26,
     "metadata": {},
     "output_type": "execute_result"
    },
    {
     "data": {
      "image/png": "[encoded data removed]",
      "text/plain": [
       "<Figure size 1080x360 with 3 Axes>"
      ]
     },
     "metadata": {
      "needs_background": "light"
     },
     "output_type": "display_data"
    }
   ],
   "source": [
    "sns.catplot(x='Survived', col='Embarked', kind='count', data=data)"
   ]
  },
  {
   "cell_type": "code",
   "execution_count": 27,
   "id": "126d25ef",
   "metadata": {
    "execution": {
     "iopub.execute_input": "2021-10-10T12:28:07.296292Z",
     "iopub.status.busy": "2021-10-10T12:28:07.295706Z",
     "iopub.status.idle": "2021-10-10T12:28:07.405982Z",
     "shell.execute_reply": "2021-10-10T12:28:07.405058Z",
     "shell.execute_reply.started": "2021-10-10T12:27:04.354234Z"
    },
    "papermill": {
     "duration": 0.154479,
     "end_time": "2021-10-10T12:28:07.406108",
     "exception": false,
     "start_time": "2021-10-10T12:28:07.251629",
     "status": "completed"
    },
    "tags": []
   },
   "outputs": [
    {
     "data": {
      "text/html": [
       "<div>\n",
       "<style scoped>\n",
       "    .dataframe tbody tr th:only-of-type {\n",
       "        vertical-align: middle;\n",
       "    }\n",
       "\n",
       "    .dataframe tbody tr th {\n",
       "        vertical-align: top;\n",
       "    }\n",
       "\n",
       "    .dataframe thead tr th {\n",
       "        text-align: left;\n",
       "    }\n",
       "\n",
       "    .dataframe thead tr:last-of-type th {\n",
       "        text-align: right;\n",
       "    }\n",
       "</style>\n",
       "<table border=\"1\" class=\"dataframe\">\n",
       "  <thead>\n",
       "    <tr>\n",
       "      <th>Sex</th>\n",
       "      <th colspan=\"9\" halign=\"left\">female</th>\n",
       "      <th colspan=\"9\" halign=\"left\">male</th>\n",
       "      <th>All</th>\n",
       "    </tr>\n",
       "    <tr>\n",
       "      <th>Pclass</th>\n",
       "      <th colspan=\"3\" halign=\"left\">1</th>\n",
       "      <th colspan=\"3\" halign=\"left\">2</th>\n",
       "      <th colspan=\"3\" halign=\"left\">3</th>\n",
       "      <th colspan=\"3\" halign=\"left\">1</th>\n",
       "      <th colspan=\"3\" halign=\"left\">2</th>\n",
       "      <th colspan=\"3\" halign=\"left\">3</th>\n",
       "      <th></th>\n",
       "    </tr>\n",
       "    <tr>\n",
       "      <th>Embarked</th>\n",
       "      <th>C</th>\n",
       "      <th>Q</th>\n",
       "      <th>S</th>\n",
       "      <th>C</th>\n",
       "      <th>Q</th>\n",
       "      <th>S</th>\n",
       "      <th>C</th>\n",
       "      <th>Q</th>\n",
       "      <th>S</th>\n",
       "      <th>C</th>\n",
       "      <th>Q</th>\n",
       "      <th>S</th>\n",
       "      <th>C</th>\n",
       "      <th>Q</th>\n",
       "      <th>S</th>\n",
       "      <th>C</th>\n",
       "      <th>Q</th>\n",
       "      <th>S</th>\n",
       "      <th></th>\n",
       "    </tr>\n",
       "    <tr>\n",
       "      <th>Survived</th>\n",
       "      <th></th>\n",
       "      <th></th>\n",
       "      <th></th>\n",
       "      <th></th>\n",
       "      <th></th>\n",
       "      <th></th>\n",
       "      <th></th>\n",
       "      <th></th>\n",
       "      <th></th>\n",
       "      <th></th>\n",
       "      <th></th>\n",
       "      <th></th>\n",
       "      <th></th>\n",
       "      <th></th>\n",
       "      <th></th>\n",
       "      <th></th>\n",
       "      <th></th>\n",
       "      <th></th>\n",
       "      <th></th>\n",
       "    </tr>\n",
       "  </thead>\n",
       "  <tbody>\n",
       "    <tr>\n",
       "      <th>0</th>\n",
       "      <td>1</td>\n",
       "      <td>0</td>\n",
       "      <td>2</td>\n",
       "      <td>0</td>\n",
       "      <td>0</td>\n",
       "      <td>6</td>\n",
       "      <td>8</td>\n",
       "      <td>9</td>\n",
       "      <td>55</td>\n",
       "      <td>25</td>\n",
       "      <td>1</td>\n",
       "      <td>51</td>\n",
       "      <td>8</td>\n",
       "      <td>1</td>\n",
       "      <td>82</td>\n",
       "      <td>33</td>\n",
       "      <td>36</td>\n",
       "      <td>231</td>\n",
       "      <td>549</td>\n",
       "    </tr>\n",
       "    <tr>\n",
       "      <th>1</th>\n",
       "      <td>42</td>\n",
       "      <td>1</td>\n",
       "      <td>46</td>\n",
       "      <td>7</td>\n",
       "      <td>2</td>\n",
       "      <td>61</td>\n",
       "      <td>15</td>\n",
       "      <td>24</td>\n",
       "      <td>33</td>\n",
       "      <td>17</td>\n",
       "      <td>0</td>\n",
       "      <td>28</td>\n",
       "      <td>2</td>\n",
       "      <td>0</td>\n",
       "      <td>15</td>\n",
       "      <td>10</td>\n",
       "      <td>3</td>\n",
       "      <td>34</td>\n",
       "      <td>340</td>\n",
       "    </tr>\n",
       "    <tr>\n",
       "      <th>All</th>\n",
       "      <td>43</td>\n",
       "      <td>1</td>\n",
       "      <td>48</td>\n",
       "      <td>7</td>\n",
       "      <td>2</td>\n",
       "      <td>67</td>\n",
       "      <td>23</td>\n",
       "      <td>33</td>\n",
       "      <td>88</td>\n",
       "      <td>42</td>\n",
       "      <td>1</td>\n",
       "      <td>79</td>\n",
       "      <td>10</td>\n",
       "      <td>1</td>\n",
       "      <td>97</td>\n",
       "      <td>43</td>\n",
       "      <td>39</td>\n",
       "      <td>265</td>\n",
       "      <td>889</td>\n",
       "    </tr>\n",
       "  </tbody>\n",
       "</table>\n",
       "</div>"
      ],
      "text/plain": [
       "Sex      female                              male                            \\\n",
       "Pclass        1         2          3            1          2          3       \n",
       "Embarked      C  Q   S  C  Q   S   C   Q   S    C  Q   S   C  Q   S   C   Q   \n",
       "Survived                                                                      \n",
       "0             1  0   2  0  0   6   8   9  55   25  1  51   8  1  82  33  36   \n",
       "1            42  1  46  7  2  61  15  24  33   17  0  28   2  0  15  10   3   \n",
       "All          43  1  48  7  2  67  23  33  88   42  1  79  10  1  97  43  39   \n",
       "\n",
       "Sex            All  \n",
       "Pclass              \n",
       "Embarked    S       \n",
       "Survived            \n",
       "0         231  549  \n",
       "1          34  340  \n",
       "All       265  889  "
      ]
     },
     "execution_count": 27,
     "metadata": {},
     "output_type": "execute_result"
    }
   ],
   "source": [
    "pd.crosstab([data.Survived], [data.Sex, data.Pclass, data.Embarked], margins=True)"
   ]
  },
  {
   "cell_type": "code",
   "execution_count": 28,
   "id": "bf943076",
   "metadata": {
    "execution": {
     "iopub.execute_input": "2021-10-10T12:28:07.482661Z",
     "iopub.status.busy": "2021-10-10T12:28:07.482153Z",
     "iopub.status.idle": "2021-10-10T12:28:07.752050Z",
     "shell.execute_reply": "2021-10-10T12:28:07.751653Z",
     "shell.execute_reply.started": "2021-10-10T12:27:04.475354Z"
    },
    "papermill": {
     "duration": 0.310572,
     "end_time": "2021-10-10T12:28:07.752168",
     "exception": false,
     "start_time": "2021-10-10T12:28:07.441596",
     "status": "completed"
    },
    "tags": []
   },
   "outputs": [
    {
     "name": "stderr",
     "output_type": "stream",
     "text": [
      "/opt/conda/lib/python3.7/site-packages/seaborn/distributions.py:2619: FutureWarning: `distplot` is a deprecated function and will be removed in a future version. Please adapt your code to use either `displot` (a figure-level function with similar flexibility) or `histplot` (an axes-level function for histograms).\n",
      "  warnings.warn(msg, FutureWarning)\n"
     ]
    },
    {
     "data": {
      "text/plain": [
       "<AxesSubplot:xlabel='Fare', ylabel='Density'>"
      ]
     },
     "execution_count": 28,
     "metadata": {},
     "output_type": "execute_result"
    },
    {
     "data": {
      "image/png": "[encoded data removed]",
      "text/plain": [
       "<Figure size 432x288 with 1 Axes>"
      ]
     },
     "metadata": {
      "needs_background": "light"
     },
     "output_type": "display_data"
    }
   ],
   "source": [
    "sns.distplot(data['Fare'])"
   ]
  },
  {
   "cell_type": "code",
   "execution_count": 29,
   "id": "4ebb8a98",
   "metadata": {
    "execution": {
     "iopub.execute_input": "2021-10-10T12:28:07.826834Z",
     "iopub.status.busy": "2021-10-10T12:28:07.826191Z",
     "iopub.status.idle": "2021-10-10T12:28:08.248593Z",
     "shell.execute_reply": "2021-10-10T12:28:08.248075Z",
     "shell.execute_reply.started": "2021-10-10T12:27:04.821024Z"
    },
    "papermill": {
     "duration": 0.460451,
     "end_time": "2021-10-10T12:28:08.248715",
     "exception": false,
     "start_time": "2021-10-10T12:28:07.788264",
     "status": "completed"
    },
    "tags": []
   },
   "outputs": [
    {
     "data": {
      "image/png": "[encoded data removed]",
      "text/plain": [
       "<Figure size 648x432 with 2 Axes>"
      ]
     },
     "metadata": {
      "needs_background": "light"
     },
     "output_type": "display_data"
    }
   ],
   "source": [
    "# Correlation Matrix\n",
    "corr = data.corr()\n",
    "f,ax = plt.subplots(figsize=(9,6))\n",
    "sns.heatmap(corr, annot = True, linewidths=1.5 , fmt = '.2f',ax=ax)\n",
    "plt.show()"
   ]
  }
 ],
 "metadata": {
  "kernelspec": {
   "display_name": "Python 3",
   "language": "python",
   "name": "python3"
  },
  "language_info": {
   "codemirror_mode": {
    "name": "ipython",
    "version": 3
   },
   "file_extension": ".py",
   "mimetype": "text/x-python",
   "name": "python",
   "nbconvert_exporter": "python",
   "pygments_lexer": "ipython3",
   "version": "3.7.10"
  },
  "papermill": {
   "default_parameters": {},
   "duration": 14.707014,
   "end_time": "2021-10-10T12:28:08.895159",
   "environment_variables": {},
   "exception": null,
   "input_path": "__notebook__.ipynb",
   "output_path": "__notebook__.ipynb",
   "parameters": {},
   "start_time": "2021-10-10T12:27:54.188145",
   "version": "2.3.3"
  }
 },
 "nbformat": 4,
 "nbformat_minor": 5
}
